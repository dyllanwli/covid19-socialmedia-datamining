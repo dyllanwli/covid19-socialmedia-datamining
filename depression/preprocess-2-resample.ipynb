{
 "cells": [
  {
   "cell_type": "code",
   "execution_count": 3,
   "metadata": {},
   "outputs": [],
   "source": [
    "import pandas as pd\n",
    "import numpy as np\n",
    "import os\n",
    "import ujson\n",
    "import string\n",
    "import re\n",
    "import nltk\n",
    "from nltk.tokenize import word_tokenize\n",
    "from nltk.corpus import stopwords\n",
    "from tqdm import tqdm"
   ]
  },
  {
   "cell_type": "code",
   "execution_count": 4,
   "metadata": {},
   "outputs": [
    {
     "name": "stdout",
     "output_type": "stream",
     "text": [
      "The lab_black extension is already loaded. To reload it, use:\n",
      "  %reload_ext lab_black\n"
     ]
    }
   ],
   "source": [
    "%load_ext lab_black\n",
    "%matplotlib inline"
   ]
  },
  {
   "cell_type": "code",
   "execution_count": 5,
   "metadata": {},
   "outputs": [],
   "source": [
    "class ResampleTwitter:\n",
    "    \n",
    "    def __init__(self):\n",
    "\n",
    "        self.base_path = os.environ[\"SCRATCH\"]\n",
    "\n",
    "        input_folder = \"covid-map/twitter-dataset-processed-1\"\n",
    "        self.input_folder_path = os.path.join(self.base_path, input_folder)\n",
    "\n",
    "        self.input_df_path = [\n",
    "            os.path.join(self.input_folder_path, x)\n",
    "            for x in os.listdir(self.input_folder_path)\n",
    "            if x.endswith(\".csv\")\n",
    "        ]\n",
    "\n",
    "        output_folder = \"covid-map/twitter-dataset-processed-2\"\n",
    "        self.output_folder_path = os.path.join(self.base_path, output_folder)\n",
    "\n",
    "        self.sample_df_path = os.path.join(self.base_path, \"covid-map/concated_df.csv\")\n",
    "\n",
    "    def get_df(self, df_path):\n",
    "        df = pd.read_csv(df_path, lineterminator=\"\\n\")\n",
    "        df[\"created_at\"] = df[\"created_at\"].apply(lambda x: pd.to_datetime(x))\n",
    "        df.set_index(\"created_at\", inplace=True)\n",
    "        # df = df.drop_duplicates(subset=\"cleaned_text\")\n",
    "        return df\n",
    "\n",
    "    def split_windows(self, df):\n",
    "        print(\"RESAMPLING\")\n",
    "        for i in df.resample(\"5D\"):\n",
    "            date = str(i[0].date())\n",
    "            idf = i[1]\n",
    "            output_filename = date + \".csv\"\n",
    "            output_path = os.path.join(self.output_folder_path, output_filename)\n",
    "            print(output_path, idf.shape)\n",
    "            self.write_to_csv(idf, output_path)\n",
    "\n",
    "    def write_to_csv(self, df, output_path):\n",
    "        df.to_csv(output_path, index=\"created_at\")\n",
    "\n",
    "    def start_one(self, df_path):\n",
    "        return self.get_df(df_path)\n",
    "        # self.split_windows(df)\n",
    "\n",
    "    def start_all(self, df_path_list):\n",
    "        nums = len(df_path_list)\n",
    "        concated_df = pd.DataFrame()\n",
    "        with tqdm(total=nums) as pbar:\n",
    "            for df_path in df_path_list:\n",
    "                df = self.start_one(df_path)\n",
    "                concated_df = pd.concat([concated_df, df])\n",
    "                pbar.update(1)\n",
    "        print(\"concat done.\")\n",
    "        return concated_df"
   ]
  },
  {
   "cell_type": "code",
   "execution_count": 6,
   "metadata": {},
   "outputs": [
    {
     "name": "stderr",
     "output_type": "stream",
     "text": [
      "100%|██████████| 1114/1114 [38:30<00:00,  2.07s/it]"
     ]
    },
    {
     "name": "stdout",
     "output_type": "stream",
     "text": [
      "concat done.\n"
     ]
    },
    {
     "name": "stderr",
     "output_type": "stream",
     "text": [
      "\n"
     ]
    }
   ],
   "source": [
    "RT = ResampleTwitter()\n",
    "concated_df = RT.start_all(RT.input_df_path)"
   ]
  },
  {
   "cell_type": "code",
   "execution_count": 7,
   "metadata": {},
   "outputs": [
    {
     "name": "stdout",
     "output_type": "stream",
     "text": [
      "RESAMPLING\n",
      "/scratch/user/diya.li/covid-map/twitter-dataset-processed-2/2020-01-21.csv (165527, 14)\n",
      "/scratch/user/diya.li/covid-map/twitter-dataset-processed-2/2020-01-26.csv (579410, 14)\n",
      "/scratch/user/diya.li/covid-map/twitter-dataset-processed-2/2020-01-31.csv (263968, 14)\n",
      "/scratch/user/diya.li/covid-map/twitter-dataset-processed-2/2020-02-05.csv (141279, 14)\n",
      "/scratch/user/diya.li/covid-map/twitter-dataset-processed-2/2020-02-10.csv (150162, 14)\n",
      "/scratch/user/diya.li/covid-map/twitter-dataset-processed-2/2020-02-15.csv (158341, 14)\n",
      "/scratch/user/diya.li/covid-map/twitter-dataset-processed-2/2020-02-20.csv (104271, 14)\n",
      "/scratch/user/diya.li/covid-map/twitter-dataset-processed-2/2020-02-25.csv (355454, 14)\n",
      "/scratch/user/diya.li/covid-map/twitter-dataset-processed-2/2020-03-01.csv (1047835, 14)\n",
      "/scratch/user/diya.li/covid-map/twitter-dataset-processed-2/2020-03-06.csv (531521, 14)\n",
      "/scratch/user/diya.li/covid-map/twitter-dataset-processed-2/2020-03-11.csv (532746, 14)\n",
      "/scratch/user/diya.li/covid-map/twitter-dataset-processed-2/2020-03-16.csv (525258, 14)\n",
      "/scratch/user/diya.li/covid-map/twitter-dataset-processed-2/2020-03-21.csv (23119, 14)\n",
      "/scratch/user/diya.li/covid-map/twitter-dataset-processed-2/2020-03-26.csv (0, 14)\n",
      "/scratch/user/diya.li/covid-map/twitter-dataset-processed-2/2020-03-31.csv (284229, 14)\n",
      "/scratch/user/diya.li/covid-map/twitter-dataset-processed-2/2020-04-05.csv (351989, 14)\n",
      "/scratch/user/diya.li/covid-map/twitter-dataset-processed-2/2020-04-10.csv (81291, 14)\n"
     ]
    }
   ],
   "source": [
    "RT.split_windows(concated_df)"
   ]
  },
  {
   "cell_type": "code",
   "execution_count": 8,
   "metadata": {},
   "outputs": [
    {
     "data": {
      "text/plain": [
       "(5296400, 14)"
      ]
     },
     "execution_count": 8,
     "metadata": {},
     "output_type": "execute_result"
    }
   ],
   "source": [
    "concated_df.shape"
   ]
  },
  {
   "cell_type": "code",
   "execution_count": 62,
   "metadata": {},
   "outputs": [],
   "source": [
    "temp_df = pd.read_csv(\n",
    "    RT.base_path + \"/covid-map/twitter-dataset-processed-2/2020-01-30.csv\"\n",
    ")"
   ]
  },
  {
   "cell_type": "code",
   "execution_count": 63,
   "metadata": {},
   "outputs": [
    {
     "data": {
      "text/html": [
       "<div>\n",
       "<style scoped>\n",
       "    .dataframe tbody tr th:only-of-type {\n",
       "        vertical-align: middle;\n",
       "    }\n",
       "\n",
       "    .dataframe tbody tr th {\n",
       "        vertical-align: top;\n",
       "    }\n",
       "\n",
       "    .dataframe thead th {\n",
       "        text-align: right;\n",
       "    }\n",
       "</style>\n",
       "<table border=\"1\" class=\"dataframe\">\n",
       "  <thead>\n",
       "    <tr style=\"text-align: right;\">\n",
       "      <th></th>\n",
       "      <th>created_at</th>\n",
       "      <th>id</th>\n",
       "      <th>full_text</th>\n",
       "      <th>cleaned_text</th>\n",
       "      <th>entities</th>\n",
       "      <th>retweet_count</th>\n",
       "      <th>favorite_count</th>\n",
       "      <th>CountyId</th>\n",
       "      <th>user_name</th>\n",
       "      <th>user_followers_count</th>\n",
       "      <th>user_friends_count</th>\n",
       "      <th>user_listed_count</th>\n",
       "      <th>favourites_count</th>\n",
       "      <th>user_location</th>\n",
       "      <th>geo</th>\n",
       "    </tr>\n",
       "  </thead>\n",
       "  <tbody>\n",
       "    <tr>\n",
       "      <th>0</th>\n",
       "      <td>2020-01-30 17:00:00+00:00</td>\n",
       "      <td>1222927452722233344</td>\n",
       "      <td>🎙 @DrNinaRadcliff broke down #Coronavirus for ...</td>\n",
       "      <td>🎙 drninaradcliff broke jrzyjoepiscopo morning ...</td>\n",
       "      <td>{'hashtags': [{'text': 'Coronavirus', 'indices...</td>\n",
       "      <td>1</td>\n",
       "      <td>15</td>\n",
       "      <td>36061</td>\n",
       "      <td>The Joe Piscopo Show</td>\n",
       "      <td>4980</td>\n",
       "      <td>121</td>\n",
       "      <td>23</td>\n",
       "      <td>2458</td>\n",
       "      <td>New York, NY</td>\n",
       "      <td>NaN</td>\n",
       "    </tr>\n",
       "    <tr>\n",
       "      <th>1</th>\n",
       "      <td>2020-01-30 17:00:00+00:00</td>\n",
       "      <td>1222927453141618690</td>\n",
       "      <td>Images of sick, suffering animals in markets h...</td>\n",
       "      <td>images sick suffering animals markets created ...</td>\n",
       "      <td>{'hashtags': [], 'symbols': [], 'user_mentions...</td>\n",
       "      <td>9</td>\n",
       "      <td>29</td>\n",
       "      <td>11001</td>\n",
       "      <td>National Geographic Magazine</td>\n",
       "      <td>421444</td>\n",
       "      <td>784</td>\n",
       "      <td>3373</td>\n",
       "      <td>2736</td>\n",
       "      <td>Washington, DC</td>\n",
       "      <td>NaN</td>\n",
       "    </tr>\n",
       "    <tr>\n",
       "      <th>2</th>\n",
       "      <td>2020-01-30 17:00:00+00:00</td>\n",
       "      <td>1222927453334564874</td>\n",
       "      <td>So many suffer #coronavirus #supplychain #logi...</td>\n",
       "      <td>many suffer supplychain logistics risk apple c...</td>\n",
       "      <td>{'hashtags': [{'text': 'coronavirus', 'indices...</td>\n",
       "      <td>0</td>\n",
       "      <td>0</td>\n",
       "      <td>4013</td>\n",
       "      <td>Rob Morris</td>\n",
       "      <td>122</td>\n",
       "      <td>251</td>\n",
       "      <td>1</td>\n",
       "      <td>46</td>\n",
       "      <td>Gilbert, AZ</td>\n",
       "      <td>NaN</td>\n",
       "    </tr>\n",
       "    <tr>\n",
       "      <th>3</th>\n",
       "      <td>2020-01-30 17:00:00+00:00</td>\n",
       "      <td>1222927453976330243</td>\n",
       "      <td>Do masks offer protection from new coronavirus...</td>\n",
       "      <td>masks offer protection new depends\\n</td>\n",
       "      <td>{'hashtags': [], 'symbols': [], 'user_mentions...</td>\n",
       "      <td>0</td>\n",
       "      <td>1</td>\n",
       "      <td>35047</td>\n",
       "      <td>FOX5 Las Vegas</td>\n",
       "      <td>246132</td>\n",
       "      <td>573</td>\n",
       "      <td>1450</td>\n",
       "      <td>10236</td>\n",
       "      <td>Las Vegas</td>\n",
       "      <td>NaN</td>\n",
       "    </tr>\n",
       "    <tr>\n",
       "      <th>4</th>\n",
       "      <td>2020-01-30 17:00:00+00:00</td>\n",
       "      <td>1222927454135676929</td>\n",
       "      <td>In this week's #Opinion piece, News Editor Mat...</td>\n",
       "      <td>weeks opinion piece news editor matthew knott ...</td>\n",
       "      <td>{'hashtags': [{'text': 'Opinion', 'indices': [...</td>\n",
       "      <td>0</td>\n",
       "      <td>0</td>\n",
       "      <td>48267</td>\n",
       "      <td>StudyTravel Ltd</td>\n",
       "      <td>6397</td>\n",
       "      <td>1642</td>\n",
       "      <td>102</td>\n",
       "      <td>1511</td>\n",
       "      <td>London, England</td>\n",
       "      <td>NaN</td>\n",
       "    </tr>\n",
       "  </tbody>\n",
       "</table>\n",
       "</div>"
      ],
      "text/plain": [
       "                  created_at                   id  \\\n",
       "0  2020-01-30 17:00:00+00:00  1222927452722233344   \n",
       "1  2020-01-30 17:00:00+00:00  1222927453141618690   \n",
       "2  2020-01-30 17:00:00+00:00  1222927453334564874   \n",
       "3  2020-01-30 17:00:00+00:00  1222927453976330243   \n",
       "4  2020-01-30 17:00:00+00:00  1222927454135676929   \n",
       "\n",
       "                                           full_text  \\\n",
       "0  🎙 @DrNinaRadcliff broke down #Coronavirus for ...   \n",
       "1  Images of sick, suffering animals in markets h...   \n",
       "2  So many suffer #coronavirus #supplychain #logi...   \n",
       "3  Do masks offer protection from new coronavirus...   \n",
       "4  In this week's #Opinion piece, News Editor Mat...   \n",
       "\n",
       "                                        cleaned_text  \\\n",
       "0  🎙 drninaradcliff broke jrzyjoepiscopo morning ...   \n",
       "1  images sick suffering animals markets created ...   \n",
       "2  many suffer supplychain logistics risk apple c...   \n",
       "3               masks offer protection new depends\\n   \n",
       "4  weeks opinion piece news editor matthew knott ...   \n",
       "\n",
       "                                            entities  retweet_count  \\\n",
       "0  {'hashtags': [{'text': 'Coronavirus', 'indices...              1   \n",
       "1  {'hashtags': [], 'symbols': [], 'user_mentions...              9   \n",
       "2  {'hashtags': [{'text': 'coronavirus', 'indices...              0   \n",
       "3  {'hashtags': [], 'symbols': [], 'user_mentions...              0   \n",
       "4  {'hashtags': [{'text': 'Opinion', 'indices': [...              0   \n",
       "\n",
       "   favorite_count  CountyId                     user_name  \\\n",
       "0              15     36061          The Joe Piscopo Show   \n",
       "1              29     11001  National Geographic Magazine   \n",
       "2               0      4013                    Rob Morris   \n",
       "3               1     35047                FOX5 Las Vegas   \n",
       "4               0     48267               StudyTravel Ltd   \n",
       "\n",
       "   user_followers_count  user_friends_count  user_listed_count  \\\n",
       "0                  4980                 121                 23   \n",
       "1                421444                 784               3373   \n",
       "2                   122                 251                  1   \n",
       "3                246132                 573               1450   \n",
       "4                  6397                1642                102   \n",
       "\n",
       "   favourites_count    user_location  geo  \n",
       "0              2458     New York, NY  NaN  \n",
       "1              2736   Washington, DC  NaN  \n",
       "2                46      Gilbert, AZ  NaN  \n",
       "3             10236        Las Vegas  NaN  \n",
       "4              1511  London, England  NaN  "
      ]
     },
     "execution_count": 63,
     "metadata": {},
     "output_type": "execute_result"
    }
   ],
   "source": [
    "temp_df.head()"
   ]
  },
  {
   "cell_type": "code",
   "execution_count": null,
   "metadata": {},
   "outputs": [],
   "source": []
  }
 ],
 "metadata": {
  "kernelspec": {
   "display_name": "Python 3",
   "language": "python",
   "name": "python3"
  },
  "language_info": {
   "codemirror_mode": {
    "name": "ipython",
    "version": 3
   },
   "file_extension": ".py",
   "mimetype": "text/x-python",
   "name": "python",
   "nbconvert_exporter": "python",
   "pygments_lexer": "ipython3",
   "version": "3.8.2"
  }
 },
 "nbformat": 4,
 "nbformat_minor": 4
}
