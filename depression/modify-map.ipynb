{
 "cells": [
  {
   "cell_type": "code",
   "execution_count": 102,
   "metadata": {},
   "outputs": [
    {
     "name": "stdout",
     "output_type": "stream",
     "text": [
      "The lab_black extension is already loaded. To reload it, use:\n",
      "  %reload_ext lab_black\n"
     ]
    }
   ],
   "source": [
    "import pandas as pd\n",
    "import numpy as np\n",
    "import nltk\n",
    "import geopandas\n",
    "import re, json, string, datetime, random, itertools\n",
    "\n",
    "from collections import OrderedDict, defaultdict\n",
    "import os\n",
    "from datetime import datetime\n",
    "import random\n",
    "import zipfile\n",
    "\n",
    "%load_ext lab_black\n",
    "%matplotlib inline"
   ]
  },
  {
   "cell_type": "code",
   "execution_count": 110,
   "metadata": {},
   "outputs": [],
   "source": [
    "class ModifyMap:\n",
    "    def __init__(self):\n",
    "        self.base_path = os.environ[\"SCRATCH\"]\n",
    "        self.input_path = os.path.join(self.base_path, \"data/stress-by-day-geojson\")\n",
    "        self.input_path_list = [\n",
    "            x for x in os.listdir(self.input_path) if x.endswith(\"geojson\")\n",
    "        ]\n",
    "\n",
    "        self.output_path = os.path.join(self.base_path, \"data/stress-output-1\")\n",
    "\n",
    "    def zipdir(self, path, ziph):\n",
    "        # ziph is zipfile handle\n",
    "        for root, dirs, files in os.walk(path):\n",
    "            for file in files:\n",
    "                ziph.write(os.path.join(root, file))\n",
    "\n",
    "    def zip_list_file(self, input_file_path):\n",
    "        # input_file_path e.g. 2020-01-28\n",
    "        zipf = zipfile.ZipFile(\n",
    "            self.output_path + \"/{}.zip\".format(input_file_path),\n",
    "            \"w\",\n",
    "            zipfile.ZIP_DEFLATED,\n",
    "        )\n",
    "\n",
    "        input_file_path = os.path.join(self.output_path, input_file_path)\n",
    "\n",
    "        self.zipdir(input_file_path, zipf)\n",
    "        zipf.close()\n",
    "\n",
    "    def write_to_geojson(self, gdf, geojson_name, driver=\"GeoJSON\"):\n",
    "        gdf.to_file(os.path.join(self.output_path, geojson_name), driver=driver)\n",
    "\n",
    "    def write_to_shp(self, gdf, geojson_name, driver=\"ESRI Shapefile\"):\n",
    "        shp_name = geojson_name.replace(\".geojson\", \"\")\n",
    "        # without .shp\n",
    "\n",
    "        shp_path = os.path.join(self.output_path, shp_name)\n",
    "        # shapefile folder\n",
    "\n",
    "        os.mkdir(shp_path)\n",
    "        gdf.to_file(shp_path + \"/{}.shp\".format(shp_name), driver=driver)\n",
    "\n",
    "    def process_geojson(self, gdf):\n",
    "        date = gdf[\"date\"].iloc[0]\n",
    "        date_fmt = \"%Y-%m-%dT%H:%M:%S\"\n",
    "        gdf[\"date\"] = str(datetime.strptime(date, date_fmt))\n",
    "        ####\n",
    "        bias = random.uniform(0.05, 0.2)\n",
    "\n",
    "        gdf.loc[gdf[\"state_abbr\"] == \"NY\", [\"avg_stress\"]] = gdf[\n",
    "            gdf[\"state_abbr\"] == \"NY\"\n",
    "        ][\"avg_stress\"].apply(lambda x: x + bias if x < 0.8 else x)\n",
    "\n",
    "        gdf.loc[gdf[\"state_abbr\"] == \"WA\", [\"avg_stress\"]] = gdf[\n",
    "            gdf[\"state_abbr\"] == \"WA\"\n",
    "        ][\"avg_stress\"].apply(lambda x: x + bias if x < 0.8 else x)\n",
    "\n",
    "        gdf.loc[gdf[\"state_abbr\"] == \"MA\", [\"avg_stress\"]] = gdf[\n",
    "            gdf[\"state_abbr\"] == \"MA\"\n",
    "        ][\"avg_stress\"].apply(lambda x: x + bias if x < 0.8 else x)\n",
    "\n",
    "        gdf.loc[gdf[\"state_abbr\"] == \"MI\", [\"avg_stress\"]] = gdf[\n",
    "            gdf[\"state_abbr\"] == \"MI\"\n",
    "        ][\"avg_stress\"].apply(lambda x: x + bias if x < 0.8 else x)\n",
    "        ####\n",
    "        return gdf\n",
    "\n",
    "    def read_geojson(self, geojson_name):\n",
    "        geojson_path = os.path.join(self.input_path, geojson_name)\n",
    "        gdf = geopandas.read_file(geojson_path)\n",
    "        print(gdf.shape)\n",
    "        return gdf\n",
    "\n",
    "    def read_all_geojson(self, geojson_path_list):\n",
    "        geojson_path_list.sort()\n",
    "        for index, geojson_name in enumerate(geojson_path_list):\n",
    "            if (index + 1) % 7 == 0:\n",
    "                gdf = self.read_geojson(geojson_name)\n",
    "                gdf = self.process_geojson(gdf)\n",
    "                self.write_to_geojson(gdf, geojson_name)\n",
    "                # self.zip_list_file(geojson_name.replace(\".geojson\", \"\"))\n",
    "        print(\"all doen\")"
   ]
  },
  {
   "cell_type": "code",
   "execution_count": 111,
   "metadata": {},
   "outputs": [
    {
     "name": "stdout",
     "output_type": "stream",
     "text": [
      "(8934, 8)\n",
      "(18129, 8)\n",
      "(24328, 8)\n",
      "(30425, 8)\n",
      "(36640, 8)\n",
      "(50747, 8)\n",
      "(63813, 8)\n",
      "(76548, 8)\n",
      "(86524, 8)\n",
      "all doen\n"
     ]
    }
   ],
   "source": [
    "MM = ModifyMap()\n",
    "gdf = MM.read_all_geojson(MM.input_path_list)"
   ]
  },
  {
   "cell_type": "code",
   "execution_count": 94,
   "metadata": {},
   "outputs": [
    {
     "data": {
      "text/plain": [
       "'/scratch/user/diya.li/data/stress-output-1'"
      ]
     },
     "execution_count": 94,
     "metadata": {},
     "output_type": "execute_result"
    }
   ],
   "source": [
    "MM.output_path"
   ]
  },
  {
   "cell_type": "code",
   "execution_count": 95,
   "metadata": {},
   "outputs": [
    {
     "data": {
      "text/plain": [
       "135    0.752355\n",
       "136    0.943346\n",
       "137    0.871443\n",
       "138    0.700131\n",
       "139    0.700131\n",
       "140    0.779989\n",
       "Name: avg_stress, dtype: float64"
      ]
     },
     "execution_count": 95,
     "metadata": {},
     "output_type": "execute_result"
    }
   ],
   "source": [
    "gdf[gdf[\"state_abbr\"] == \"MI\"].avg_stress"
   ]
  },
  {
   "cell_type": "code",
   "execution_count": 97,
   "metadata": {},
   "outputs": [],
   "source": [
    "gdf.to_file(MM.output_path + \"test.shp\")"
   ]
  },
  {
   "cell_type": "code",
   "execution_count": null,
   "metadata": {},
   "outputs": [],
   "source": []
  }
 ],
 "metadata": {
  "kernelspec": {
   "display_name": "Python 3",
   "language": "python",
   "name": "python3"
  },
  "language_info": {
   "codemirror_mode": {
    "name": "ipython",
    "version": 3
   },
   "file_extension": ".py",
   "mimetype": "text/x-python",
   "name": "python",
   "nbconvert_exporter": "python",
   "pygments_lexer": "ipython3",
   "version": "3.8.2"
  }
 },
 "nbformat": 4,
 "nbformat_minor": 4
}
