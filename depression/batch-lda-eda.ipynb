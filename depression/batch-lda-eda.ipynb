{
 "cells": [
  {
   "cell_type": "code",
   "execution_count": 1,
   "metadata": {},
   "outputs": [],
   "source": [
    "import pandas as pd\n",
    "import numpy as np"
   ]
  },
  {
   "cell_type": "code",
   "execution_count": 2,
   "metadata": {},
   "outputs": [
    {
     "name": "stderr",
     "output_type": "stream",
     "text": [
      "/scratch/user/diya.li/.conda/envs/jupyterlab_2.0.1/lib/python3.8/site-packages/sklearn/externals/joblib/__init__.py:15: FutureWarning: sklearn.externals.joblib is deprecated in 0.21 and will be removed in 0.23. Please import this functionality directly from joblib, which can be installed with: pip install joblib. If this warning is raised when loading pickled models, you may need to re-serialize those models with scikit-learn 0.21+.\n",
      "  warnings.warn(msg, category=FutureWarning)\n"
     ]
    }
   ],
   "source": [
    "from corextopic import corextopic as ct\n",
    "import scipy.sparse as ss\n",
    "from corextopic import (\n",
    "    vis_topic as vt,\n",
    ")  # jupyter notebooks will complain matplotlib is being loaded twice\n",
    "from difflib import get_close_matches\n",
    "\n",
    "# got issues from https://stackoverflow.com/questions/26283715/how-to-find-the-most-similar-word-in-a-list-in-python"
   ]
  },
  {
   "cell_type": "code",
   "execution_count": 9,
   "metadata": {},
   "outputs": [],
   "source": [
    "feature_fid = [4015, 4025, 4005, 4012]\n",
    "scratch_path = os.environ[\"SCRATCH\"]\n",
    "df_path = os.path.join(\n",
    "    scratch_path, \"covid-map/twitter-dataset-processed-topic-2W/2020-02-09.csv\"\n",
    ")\n",
    "df = pd.read_csv(df_path)\n",
    "df = df.dropna(subset=[\"CountyId\"])\n",
    "df[\"CountyId\"] = df[\"CountyId\"].astype(np.int64)"
   ]
  },
  {
   "cell_type": "code",
   "execution_count": 14,
   "metadata": {},
   "outputs": [],
   "source": [
    "nv_list = df[df[\"CountyId\"].isin(feature_fid)][\"full_text\"]"
   ]
  },
  {
   "cell_type": "code",
   "execution_count": 15,
   "metadata": {},
   "outputs": [],
   "source": [
    "with open(\"nv.txt\", \"w\") as f:\n",
    "    f.writelines(nv_list)"
   ]
  },
  {
   "cell_type": "code",
   "execution_count": null,
   "metadata": {},
   "outputs": [],
   "source": []
  }
 ],
 "metadata": {
  "kernelspec": {
   "display_name": "Python 3",
   "language": "python",
   "name": "python3"
  },
  "language_info": {
   "codemirror_mode": {
    "name": "ipython",
    "version": 3
   },
   "file_extension": ".py",
   "mimetype": "text/x-python",
   "name": "python",
   "nbconvert_exporter": "python",
   "pygments_lexer": "ipython3",
   "version": "3.8.2"
  }
 },
 "nbformat": 4,
 "nbformat_minor": 4
}
