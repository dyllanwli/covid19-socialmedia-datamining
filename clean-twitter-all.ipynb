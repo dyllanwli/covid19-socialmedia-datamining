{
 "cells": [
  {
   "cell_type": "code",
   "execution_count": 1,
   "metadata": {},
   "outputs": [],
   "source": [
    "# import essential packages\n",
    "import pandas as pd\n",
    "import geopandas\n",
    "import matplotlib.pyplot as plt\n",
    "import csv\n",
    "import json\n",
    "import numpy as np\n",
    "import os"
   ]
  },
  {
   "cell_type": "code",
   "execution_count": 2,
   "metadata": {},
   "outputs": [],
   "source": [
    "# config \n",
    "folderPath = \"/scratch/group/gis-cidi/twitter-data\"\n",
    "outputPath = \"./twitter-data-output\""
   ]
  },
  {
   "cell_type": "code",
   "execution_count": 3,
   "metadata": {},
   "outputs": [],
   "source": [
    "def readAllTwitterCSV(filePath):\n",
    "    with open(filePath, newline='') as csvfile:\n",
    "        datareader = csv.reader(csvfile, delimiter=',', quotechar='\"')\n",
    "        yield next(datareader)\n",
    "        \n",
    "        for row in datareader:\n",
    "            rowData = [x for x in row]\n",
    "            _json = rowData[1]\n",
    "            yield eval(_json)\n",
    "        return"
   ]
  },
  {
   "cell_type": "code",
   "execution_count": 4,
   "metadata": {},
   "outputs": [],
   "source": [
    "def main():\n",
    "    for file in os.listdir(folderPath):\n",
    "        filePath = folderPath + \"/\" + file\n",
    "        outputFilePath = \"{}/{}.json\".format(outputPath, file.split(\".\")[0])\n",
    "        if os.path.isfile(outputFilePath):\n",
    "            continue\n",
    "        else:\n",
    "            print(\"processing {}\".format(file))\n",
    "            output = []\n",
    "            allRow = readAllTwitterCSV(filePath)\n",
    "            for index, i in enumerate(allRow):\n",
    "                if index > 0:\n",
    "                    output.append(i)\n",
    "            with open(outputFilePath, \"w\") as outputFile:\n",
    "                json.dump(output, outputFile)"
   ]
  },
  {
   "cell_type": "code",
   "execution_count": 5,
   "metadata": {},
   "outputs": [
    {
     "name": "stdout",
     "output_type": "stream",
     "text": [
      "processing 20200306-17.csv\n",
      "processing 20200309-14.csv\n",
      "processing 20200312-01.csv\n",
      "processing 20200315-03.csv\n",
      "processing 20200316-13.csv\n",
      "processing 20200306-16.csv\n",
      "processing 20200307-21.csv\n",
      "processing 20200311-12.csv\n",
      "processing 20200312-22.csv\n",
      "processing 20200314-16.csv\n",
      "processing 20200309-07.csv\n",
      "processing 20200312-06.csv\n",
      "processing 20200316-00.csv\n",
      "processing 20200309-12.csv\n",
      "processing 20200314-22.csv\n",
      "processing 20200316-03.csv\n",
      "processing 20200316-09.csv\n",
      "processing 20200312-12.csv\n",
      "processing 20200306-21.csv\n",
      "processing 20200316-07.csv\n",
      "processing 20200309-08.csv\n",
      "processing 20200308-03.csv\n",
      "processing 20200312-05.csv\n",
      "processing 20200307-13.csv\n",
      "processing 20200309-13.csv\n",
      "processing 20200309-03.csv\n",
      "processing 20200315-09.csv\n"
     ]
    }
   ],
   "source": [
    "main()"
   ]
  },
  {
   "cell_type": "code",
   "execution_count": null,
   "metadata": {},
   "outputs": [],
   "source": []
  }
 ],
 "metadata": {
  "kernelspec": {
   "display_name": "Python 3",
   "language": "python",
   "name": "python3"
  },
  "language_info": {
   "codemirror_mode": {
    "name": "ipython",
    "version": 3
   },
   "file_extension": ".py",
   "mimetype": "text/x-python",
   "name": "python",
   "nbconvert_exporter": "python",
   "pygments_lexer": "ipython3",
   "version": "3.8.1"
  }
 },
 "nbformat": 4,
 "nbformat_minor": 4
}
