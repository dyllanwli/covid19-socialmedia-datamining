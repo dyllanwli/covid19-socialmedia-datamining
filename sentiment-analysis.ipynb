{
 "cells": [
  {
   "cell_type": "code",
   "execution_count": 36,
   "metadata": {},
   "outputs": [],
   "source": [
    "# import essential packages\n",
    "import pandas as pd\n",
    "import geopandas\n",
    "import matplotlib.pyplot as plt\n",
    "import csv\n",
    "import json\n",
    "import numpy as np\n",
    "import os\n",
    "\n",
    "import itertools\n",
    "import collections\n",
    "\n",
    "import tweepy\n",
    "import nltk\n",
    "from nltk.corpus import stopwords\n",
    "import re\n",
    "import networkx\n",
    "from textblob import TextBlob\n",
    "\n",
    "import warnings\n",
    "warnings.filterwarnings(\"ignore\")\n",
    "# pd.set_option('display.max_rows', 500)\n",
    "# pd.set_option('display.max_columns', 500)\n",
    "pd.set_option('display.width', 1000)\n",
    "pd.options.display.max_rows\n",
    "pd.set_option('display.max_colwidth', -1)"
   ]
  },
  {
   "cell_type": "code",
   "execution_count": null,
   "metadata": {},
   "outputs": [],
   "source": []
  },
  {
   "cell_type": "code",
   "execution_count": 6,
   "metadata": {},
   "outputs": [],
   "source": [
    "from utils.text_wapper import remove_url\n",
    "import json"
   ]
  },
  {
   "cell_type": "code",
   "execution_count": 5,
   "metadata": {},
   "outputs": [],
   "source": [
    "# config data\n",
    "inputFolder = \"./twitter-data-geo-output\""
   ]
  },
  {
   "cell_type": "code",
   "execution_count": 22,
   "metadata": {},
   "outputs": [],
   "source": [
    "tweetsText = []\n",
    "for file in os.listdir(inputFolder):\n",
    "    filePath = \"{}/{}\".format(inputFolder, file)\n",
    "    with open(filePath, \"r\") as jsonFile:\n",
    "        jsf = json.load(jsonFile)\n",
    "        for j in jsf:\n",
    "            if j['lang'] == 'en':\n",
    "                tweetsText.append(j['text'])\n",
    "    break"
   ]
  },
  {
   "cell_type": "code",
   "execution_count": 24,
   "metadata": {},
   "outputs": [
    {
     "data": {
      "text/plain": [
       "(0.0,\n",
       " TextBlob(\"current weather in Burlington: overcast clouds, 36°F\n",
       " 69% humidity, wind 5mph, pressure 1027mb\"))"
      ]
     },
     "execution_count": 24,
     "metadata": {},
     "output_type": "execute_result"
    }
   ],
   "source": [
    "sentiment_objects = [TextBlob(tweet) for tweet in tweetsText]\n",
    "sentiment_objects[0].polarity, sentiment_objects[0]"
   ]
  },
  {
   "cell_type": "code",
   "execution_count": 26,
   "metadata": {},
   "outputs": [
    {
     "data": {
      "text/html": [
       "<div>\n",
       "<style scoped>\n",
       "    .dataframe tbody tr th:only-of-type {\n",
       "        vertical-align: middle;\n",
       "    }\n",
       "\n",
       "    .dataframe tbody tr th {\n",
       "        vertical-align: top;\n",
       "    }\n",
       "\n",
       "    .dataframe thead th {\n",
       "        text-align: right;\n",
       "    }\n",
       "</style>\n",
       "<table border=\"1\" class=\"dataframe\">\n",
       "  <thead>\n",
       "    <tr style=\"text-align: right;\">\n",
       "      <th></th>\n",
       "      <th>polarity</th>\n",
       "      <th>tweet</th>\n",
       "    </tr>\n",
       "  </thead>\n",
       "  <tbody>\n",
       "    <tr>\n",
       "      <th>0</th>\n",
       "      <td>0.0</td>\n",
       "      <td>current weather in Burlington: overcast clouds...</td>\n",
       "    </tr>\n",
       "    <tr>\n",
       "      <th>1</th>\n",
       "      <td>0.0</td>\n",
       "      <td>Flash Flood Warning continues for Nixa MO, Oza...</td>\n",
       "    </tr>\n",
       "    <tr>\n",
       "      <th>2</th>\n",
       "      <td>-0.3</td>\n",
       "      <td>Wind 0.0 mph NNW. Barometer 29.83 in, Rising s...</td>\n",
       "    </tr>\n",
       "    <tr>\n",
       "      <th>3</th>\n",
       "      <td>0.0</td>\n",
       "      <td>MED - MEDICAL at 6300 SE DIVISION ST, PORT [Po...</td>\n",
       "    </tr>\n",
       "    <tr>\n",
       "      <th>4</th>\n",
       "      <td>0.0</td>\n",
       "      <td>73.2F (Feels: 77.1F) - Humidity: 93% - Wind: 4...</td>\n",
       "    </tr>\n",
       "  </tbody>\n",
       "</table>\n",
       "</div>"
      ],
      "text/plain": [
       "   polarity                                              tweet\n",
       "0       0.0  current weather in Burlington: overcast clouds...\n",
       "1       0.0  Flash Flood Warning continues for Nixa MO, Oza...\n",
       "2      -0.3  Wind 0.0 mph NNW. Barometer 29.83 in, Rising s...\n",
       "3       0.0  MED - MEDICAL at 6300 SE DIVISION ST, PORT [Po...\n",
       "4       0.0  73.2F (Feels: 77.1F) - Humidity: 93% - Wind: 4..."
      ]
     },
     "execution_count": 26,
     "metadata": {},
     "output_type": "execute_result"
    }
   ],
   "source": [
    "sentiment_values = [[tweet.sentiment.polarity, str(tweet)] for tweet in sentiment_objects]\n",
    "sentiment_df = pd.DataFrame(sentiment_values, columns=[\"polarity\", \"tweet\"])\n",
    "sentiment_df.head()"
   ]
  },
  {
   "cell_type": "code",
   "execution_count": 27,
   "metadata": {},
   "outputs": [
    {
     "data": {
      "image/png": "[encoded data removed]",
      "text/plain": [
       "<Figure size 576x432 with 1 Axes>"
      ]
     },
     "metadata": {
      "needs_background": "light"
     },
     "output_type": "display_data"
    }
   ],
   "source": [
    "fig, ax = plt.subplots(figsize=(8, 6))\n",
    "\n",
    "# Plot histogram of the polarity values\n",
    "sentiment_df.hist(bins=[-1, -0.75, -0.5, -0.25, 0.25, 0.5, 0.75, 1],\n",
    "             ax=ax,\n",
    "             color=\"purple\")\n",
    "\n",
    "plt.title(\"Sentiments from recent Tweets during the COVID period\")\n",
    "plt.show()"
   ]
  },
  {
   "cell_type": "code",
   "execution_count": 37,
   "metadata": {},
   "outputs": [
    {
     "data": {
      "text/html": [
       "<div>\n",
       "<style scoped>\n",
       "    .dataframe tbody tr th:only-of-type {\n",
       "        vertical-align: middle;\n",
       "    }\n",
       "\n",
       "    .dataframe tbody tr th {\n",
       "        vertical-align: top;\n",
       "    }\n",
       "\n",
       "    .dataframe thead th {\n",
       "        text-align: right;\n",
       "    }\n",
       "</style>\n",
       "<table border=\"1\" class=\"dataframe\">\n",
       "  <thead>\n",
       "    <tr style=\"text-align: right;\">\n",
       "      <th></th>\n",
       "      <th>polarity</th>\n",
       "      <th>tweet</th>\n",
       "    </tr>\n",
       "  </thead>\n",
       "  <tbody>\n",
       "    <tr>\n",
       "      <th>1616</th>\n",
       "      <td>-1.0</td>\n",
       "      <td>Now, that is a skyline. Even with the devastating tornado that ripped through a residential area about 10 minutes f… https://t.co/DAZ3Rxqtmj</td>\n",
       "    </tr>\n",
       "    <tr>\n",
       "      <th>525</th>\n",
       "      <td>-1.0</td>\n",
       "      <td>It’s so disgusting to watch artists and producers I respect compromise they art just for views and likes posting su… https://t.co/IMaXPBofzs</td>\n",
       "    </tr>\n",
       "    <tr>\n",
       "      <th>1293</th>\n",
       "      <td>-1.0</td>\n",
       "      <td>Christ is with us... LET US NOT BE AFRAID!!! #jpii #nocateecatholic #coronavírus #letpeacebeginwithme @ St. John Pa… https://t.co/xXG2i8ASYC</td>\n",
       "    </tr>\n",
       "    <tr>\n",
       "      <th>583</th>\n",
       "      <td>-1.0</td>\n",
       "      <td>It’s so disgusting to watch artists and producers I respect compromise they art just for views and likes posting su… https://t.co/xVVyzcjJGC</td>\n",
       "    </tr>\n",
       "    <tr>\n",
       "      <th>1463</th>\n",
       "      <td>-0.8</td>\n",
       "      <td>#trueshit #facts #realshit @ Andrews Air Force Base, Maryland https://t.co/jeCyA6ZuPs</td>\n",
       "    </tr>\n",
       "    <tr>\n",
       "      <th>...</th>\n",
       "      <td>...</td>\n",
       "      <td>...</td>\n",
       "    </tr>\n",
       "    <tr>\n",
       "      <th>1535</th>\n",
       "      <td>1.0</td>\n",
       "      <td>Dear parents, teachers, librarians, youngsters:\\n\\nThursday morning an awesome group of children's book authors are d… https://t.co/ucVxslc9G8</td>\n",
       "    </tr>\n",
       "    <tr>\n",
       "      <th>716</th>\n",
       "      <td>1.0</td>\n",
       "      <td>Visit hudsonvalleycharcuterie link for ordering and more info!!!!     #Repost @ravenandboar with @get_repost\\n・・・\\nDe… https://t.co/r49GmGySG9</td>\n",
       "    </tr>\n",
       "    <tr>\n",
       "      <th>1567</th>\n",
       "      <td>1.0</td>\n",
       "      <td>Happy Spring 2020! #spring2020 #goodmoring #dadeville @ Dadeville, Alabama https://t.co/QwaXGYl12J</td>\n",
       "    </tr>\n",
       "    <tr>\n",
       "      <th>1417</th>\n",
       "      <td>1.0</td>\n",
       "      <td>Happy St. Joseph’s Day! We take this opportunity to applaud all of our ICS dads in honor of St. Joseph! Show us you… https://t.co/00cMpghBpe</td>\n",
       "    </tr>\n",
       "    <tr>\n",
       "      <th>600</th>\n",
       "      <td>1.0</td>\n",
       "      <td>#Bodhi_&amp;amp;_Soul_-_Smoothie_Bar_and_Bistro #Grand_Forks https://t.co/ikIos0f4Kq Excellent https://t.co/yskOrVZxnu</td>\n",
       "    </tr>\n",
       "  </tbody>\n",
       "</table>\n",
       "<p>1617 rows × 2 columns</p>\n",
       "</div>"
      ],
      "text/plain": [
       "      polarity                                                                                                                                           tweet\n",
       "1616 -1.0       Now, that is a skyline. Even with the devastating tornado that ripped through a residential area about 10 minutes f… https://t.co/DAZ3Rxqtmj  \n",
       "525  -1.0       It’s so disgusting to watch artists and producers I respect compromise they art just for views and likes posting su… https://t.co/IMaXPBofzs  \n",
       "1293 -1.0       Christ is with us... LET US NOT BE AFRAID!!! #jpii #nocateecatholic #coronavírus #letpeacebeginwithme @ St. John Pa… https://t.co/xXG2i8ASYC  \n",
       "583  -1.0       It’s so disgusting to watch artists and producers I respect compromise they art just for views and likes posting su… https://t.co/xVVyzcjJGC  \n",
       "1463 -0.8       #trueshit #facts #realshit @ Andrews Air Force Base, Maryland https://t.co/jeCyA6ZuPs                                                         \n",
       "...   ...                                                                                         ...                                                         \n",
       "1535  1.0       Dear parents, teachers, librarians, youngsters:\\n\\nThursday morning an awesome group of children's book authors are d… https://t.co/ucVxslc9G8\n",
       "716   1.0       Visit hudsonvalleycharcuterie link for ordering and more info!!!!     #Repost @ravenandboar with @get_repost\\n・・・\\nDe… https://t.co/r49GmGySG9\n",
       "1567  1.0       Happy Spring 2020! #spring2020 #goodmoring #dadeville @ Dadeville, Alabama https://t.co/QwaXGYl12J                                            \n",
       "1417  1.0       Happy St. Joseph’s Day! We take this opportunity to applaud all of our ICS dads in honor of St. Joseph! Show us you… https://t.co/00cMpghBpe  \n",
       "600   1.0       #Bodhi_&amp;_Soul_-_Smoothie_Bar_and_Bistro #Grand_Forks https://t.co/ikIos0f4Kq Excellent https://t.co/yskOrVZxnu                            \n",
       "\n",
       "[1617 rows x 2 columns]"
      ]
     },
     "execution_count": 37,
     "metadata": {},
     "output_type": "execute_result"
    }
   ],
   "source": [
    "sentiment_df.sort_values(by=['polarity'])"
   ]
  },
  {
   "cell_type": "code",
   "execution_count": null,
   "metadata": {},
   "outputs": [],
   "source": []
  }
 ],
 "metadata": {
  "kernelspec": {
   "display_name": "Python 3",
   "language": "python",
   "name": "python3"
  },
  "language_info": {
   "codemirror_mode": {
    "name": "ipython",
    "version": 3
   },
   "file_extension": ".py",
   "mimetype": "text/x-python",
   "name": "python",
   "nbconvert_exporter": "python",
   "pygments_lexer": "ipython3",
   "version": "3.8.1"
  }
 },
 "nbformat": 4,
 "nbformat_minor": 4
}
