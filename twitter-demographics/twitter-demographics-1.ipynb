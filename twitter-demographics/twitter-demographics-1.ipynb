{
 "cells": [
  {
   "cell_type": "markdown",
   "metadata": {},
   "source": [
    "## twitter demographics "
   ]
  },
  {
   "cell_type": "code",
   "execution_count": 105,
   "metadata": {},
   "outputs": [],
   "source": [
    "### Data handling imports\n",
    "import pandas as pd\n",
    "import numpy as np\n",
    "import geopy\n",
    "### Plotting imports\n",
    "import matplotlib.pyplot as plt\n",
    "import seaborn as sns\n",
    "sns.set()\n",
    "%matplotlib inline\n",
    "\n",
    "import os\n",
    "from collections import Counter\n",
    "from collections import OrderedDict\n",
    "from operator import itemgetter    \n",
    "\n",
    "import json\n",
    "\n",
    "# Statistics imports\n",
    "import scipy, scipy.stats\n",
    "\n",
    "pd.set_option('display.max_columns', None)\n",
    "\n",
    "import warnings\n",
    "warnings.filterwarnings('ignore')\n",
    "class color:\n",
    "    BOLD = '\\033[1m'\n",
    "    UNDERLINE = '\\033[4m'\n",
    "    END = '\\033[0m'"
   ]
  },
  {
   "cell_type": "code",
   "execution_count": 2,
   "metadata": {},
   "outputs": [],
   "source": [
    "inputFolder = \"../twitter-data-geo-output\"\n",
    "outputFolder = \"./twitter-data-demographics-output\""
   ]
  },
  {
   "cell_type": "code",
   "execution_count": 7,
   "metadata": {},
   "outputs": [
    {
     "data": {
      "text/plain": [
       "'20200319-06.json'"
      ]
     },
     "execution_count": 7,
     "metadata": {},
     "output_type": "execute_result"
    }
   ],
   "source": [
    "sampleDataList = [x for x in os.listdir(inputFolder) if x.endswith(\".json\")]\n",
    "sampleDataList[0]"
   ]
  },
  {
   "cell_type": "code",
   "execution_count": 10,
   "metadata": {},
   "outputs": [
    {
     "data": {
      "text/plain": [
       "'/scratch/user/diya.li/twitter-action/twitter-data-geo-output/20200319-06.json'"
      ]
     },
     "execution_count": 10,
     "metadata": {},
     "output_type": "execute_result"
    }
   ],
   "source": [
    "sampleDataPath = [os.path.abspath( inputFolder+  \"/\" + x) for x in sampleDataList]\n",
    "sampleDataPath[0]"
   ]
  },
  {
   "cell_type": "code",
   "execution_count": 12,
   "metadata": {},
   "outputs": [],
   "source": [
    "def read_json(filepath):\n",
    "    with open(filepath, 'r') as file:\n",
    "        return json.load(file)"
   ]
  },
  {
   "cell_type": "code",
   "execution_count": 16,
   "metadata": {},
   "outputs": [
    {
     "data": {
      "text/plain": [
       "{'created_at': 'Thu Mar 19 10:59:57 +0000 2020',\n",
       " 'id': 1240593849694605312,\n",
       " 'id_str': '1240593849694605312',\n",
       " 'text': 'current weather in Burlington: overcast clouds, 36°F\\n69% humidity, wind 5mph, pressure 1027mb',\n",
       " 'source': '<a href=\"http://twitter.com/USACities/cities\" rel=\"nofollow\">Cities</a>',\n",
       " 'truncated': False,\n",
       " 'in_reply_to_status_id': None,\n",
       " 'in_reply_to_status_id_str': None,\n",
       " 'in_reply_to_user_id': None,\n",
       " 'in_reply_to_user_id_str': None,\n",
       " 'in_reply_to_screen_name': None,\n",
       " 'user': {'id': 112034664,\n",
       "  'id_str': '112034664',\n",
       "  'name': 'Burlington Weather',\n",
       "  'screen_name': 'BurlingtonVT',\n",
       "  'location': 'Burlington, VT',\n",
       "  'url': None,\n",
       "  'description': 'Weather updates, forecast, warnings and information for Burlington, VT. Sources: http://OpenWeatherMap.org, NOAA, USGS.',\n",
       "  'translator_type': 'none',\n",
       "  'protected': False,\n",
       "  'verified': False,\n",
       "  'followers_count': 120,\n",
       "  'friends_count': 1,\n",
       "  'listed_count': 14,\n",
       "  'favourites_count': 0,\n",
       "  'statuses_count': 37409,\n",
       "  'created_at': 'Sun Feb 07 01:44:27 +0000 2010',\n",
       "  'utc_offset': None,\n",
       "  'time_zone': None,\n",
       "  'geo_enabled': True,\n",
       "  'lang': None,\n",
       "  'contributors_enabled': False,\n",
       "  'is_translator': False,\n",
       "  'profile_background_color': 'C0DEED',\n",
       "  'profile_background_image_url': 'http://abs.twimg.com/images/themes/theme1/bg.png',\n",
       "  'profile_background_image_url_https': 'https://abs.twimg.com/images/themes/theme1/bg.png',\n",
       "  'profile_background_tile': False,\n",
       "  'profile_link_color': '0084B4',\n",
       "  'profile_sidebar_border_color': 'C0DEED',\n",
       "  'profile_sidebar_fill_color': 'DDEEF6',\n",
       "  'profile_text_color': '333333',\n",
       "  'profile_use_background_image': True,\n",
       "  'profile_image_url': 'http://pbs.twimg.com/profile_images/1240593818077941760/q7M46ydJ_normal.png',\n",
       "  'profile_image_url_https': 'https://pbs.twimg.com/profile_images/1240593818077941760/q7M46ydJ_normal.png',\n",
       "  'default_profile': False,\n",
       "  'default_profile_image': False,\n",
       "  'following': None,\n",
       "  'follow_request_sent': None,\n",
       "  'notifications': None},\n",
       " 'geo': {'type': 'Point', 'coordinates': [44.48, -73.21]},\n",
       " 'coordinates': {'type': 'Point', 'coordinates': [-73.21, 44.48]},\n",
       " 'place': {'id': '8f07721fe6eb5c41',\n",
       "  'url': 'https://api.twitter.com/1.1/geo/id/8f07721fe6eb5c41.json',\n",
       "  'place_type': 'city',\n",
       "  'name': 'Burlington',\n",
       "  'full_name': 'Burlington, VT',\n",
       "  'country_code': 'US',\n",
       "  'country': 'United States',\n",
       "  'bounding_box': {'type': 'Polygon',\n",
       "   'coordinates': [[[-73.276995, 44.445714],\n",
       "     [-73.276995, 44.539485],\n",
       "     [-73.17455, 44.539485],\n",
       "     [-73.17455, 44.445714]]]},\n",
       "  'attributes': {}},\n",
       " 'contributors': None,\n",
       " 'is_quote_status': False,\n",
       " 'quote_count': 0,\n",
       " 'reply_count': 0,\n",
       " 'retweet_count': 0,\n",
       " 'favorite_count': 0,\n",
       " 'entities': {'hashtags': [], 'urls': [], 'user_mentions': [], 'symbols': []},\n",
       " 'favorited': False,\n",
       " 'retweeted': False,\n",
       " 'filter_level': 'low',\n",
       " 'lang': 'en',\n",
       " 'timestamp_ms': '1584615597543'}"
      ]
     },
     "execution_count": 16,
     "metadata": {},
     "output_type": "execute_result"
    }
   ],
   "source": [
    "sampleJson = read_json(sampleDataPath[0])\n",
    "sampleTweets = sampleJson[0]\n",
    "sampleTweets"
   ]
  },
  {
   "cell_type": "code",
   "execution_count": 42,
   "metadata": {},
   "outputs": [
    {
     "name": "stdout",
     "output_type": "stream",
     "text": [
      "290007\n",
      "{'Point'}\n"
     ]
    }
   ],
   "source": [
    "# I think we should filter those weather account or bot account first, I should print all the screen name first\n",
    "screenNameList = []\n",
    "geoPointList = []\n",
    "coordinatesList = []\n",
    "for j in sampleDataPath:\n",
    "    sampleJson = read_json(j)\n",
    "    for i in sampleJson:\n",
    "        screenNameList.append(i['user']['name'])\n",
    "        geoPointList.append(i['geo']['type'])\n",
    "        coordinatesList.append(i['coordinates']['type'])"
   ]
  },
  {
   "cell_type": "code",
   "execution_count": 43,
   "metadata": {},
   "outputs": [
    {
     "name": "stdout",
     "output_type": "stream",
     "text": [
      "290007\n",
      "{'Point'}\n",
      "{'Point'}\n"
     ]
    }
   ],
   "source": [
    "print(len(screenNameList))\n",
    "print(set(geoPointList))\n",
    "print(set(coordinatesList))"
   ]
  },
  {
   "cell_type": "code",
   "execution_count": 26,
   "metadata": {},
   "outputs": [],
   "source": [
    "nameCounter = Counter(screenNameList)"
   ]
  },
  {
   "cell_type": "code",
   "execution_count": null,
   "metadata": {},
   "outputs": [],
   "source": [
    "frequentDict = OrderedDict()"
   ]
  },
  {
   "cell_type": "code",
   "execution_count": 39,
   "metadata": {},
   "outputs": [],
   "source": [
    "mostFrequent =  OrderedDict([(x,y) for x, y in sorted(nameCounter.items(), key = itemgetter(1), reverse = True) if y > 10])"
   ]
  },
  {
   "cell_type": "code",
   "execution_count": 40,
   "metadata": {},
   "outputs": [
    {
     "data": {
      "text/plain": [
       "3979"
      ]
     },
     "execution_count": 40,
     "metadata": {},
     "output_type": "execute_result"
    }
   ],
   "source": [
    "len(mostFrequent)"
   ]
  },
  {
   "cell_type": "markdown",
   "metadata": {},
   "source": [
    "# I think I still need to convert those json files into dataframe"
   ]
  },
  {
   "cell_type": "code",
   "execution_count": 44,
   "metadata": {},
   "outputs": [
    {
     "data": {
      "text/plain": [
       "dict_keys(['created_at', 'id', 'id_str', 'text', 'source', 'truncated', 'in_reply_to_status_id', 'in_reply_to_status_id_str', 'in_reply_to_user_id', 'in_reply_to_user_id_str', 'in_reply_to_screen_name', 'user', 'geo', 'coordinates', 'place', 'contributors', 'is_quote_status', 'quote_count', 'reply_count', 'retweet_count', 'favorite_count', 'entities', 'favorited', 'retweeted', 'filter_level', 'lang', 'timestamp_ms'])"
      ]
     },
     "execution_count": 44,
     "metadata": {},
     "output_type": "execute_result"
    }
   ],
   "source": [
    "# select the useful keys\n",
    "sampleTweets.keys()"
   ]
  },
  {
   "cell_type": "code",
   "execution_count": 45,
   "metadata": {},
   "outputs": [
    {
     "data": {
      "text/plain": [
       "dict_keys(['id', 'id_str', 'name', 'screen_name', 'location', 'url', 'description', 'translator_type', 'protected', 'verified', 'followers_count', 'friends_count', 'listed_count', 'favourites_count', 'statuses_count', 'created_at', 'utc_offset', 'time_zone', 'geo_enabled', 'lang', 'contributors_enabled', 'is_translator', 'profile_background_color', 'profile_background_image_url', 'profile_background_image_url_https', 'profile_background_tile', 'profile_link_color', 'profile_sidebar_border_color', 'profile_sidebar_fill_color', 'profile_text_color', 'profile_use_background_image', 'profile_image_url', 'profile_image_url_https', 'default_profile', 'default_profile_image', 'following', 'follow_request_sent', 'notifications'])"
      ]
     },
     "execution_count": 45,
     "metadata": {},
     "output_type": "execute_result"
    }
   ],
   "source": [
    "sampleTweets['user'].keys()"
   ]
  },
  {
   "cell_type": "code",
   "execution_count": null,
   "metadata": {},
   "outputs": [],
   "source": []
  },
  {
   "cell_type": "code",
   "execution_count": 51,
   "metadata": {},
   "outputs": [],
   "source": [
    "sampleDataFrame = pd.DataFrame(columns = rawColumnsName)"
   ]
  },
  {
   "cell_type": "code",
   "execution_count": 53,
   "metadata": {},
   "outputs": [
    {
     "data": {
      "text/html": [
       "<div>\n",
       "<style scoped>\n",
       "    .dataframe tbody tr th:only-of-type {\n",
       "        vertical-align: middle;\n",
       "    }\n",
       "\n",
       "    .dataframe tbody tr th {\n",
       "        vertical-align: top;\n",
       "    }\n",
       "\n",
       "    .dataframe thead th {\n",
       "        text-align: right;\n",
       "    }\n",
       "</style>\n",
       "<table border=\"1\" class=\"dataframe\">\n",
       "  <thead>\n",
       "    <tr style=\"text-align: right;\">\n",
       "      <th></th>\n",
       "      <th>created_at</th>\n",
       "      <th>id_str</th>\n",
       "      <th>text</th>\n",
       "      <th>source</th>\n",
       "      <th>truncated</th>\n",
       "      <th>in_reply_to_status_id</th>\n",
       "      <th>in_reply_to_status_id_str</th>\n",
       "      <th>in_reply_to_user_id</th>\n",
       "      <th>in_reply_to_user_id_str</th>\n",
       "      <th>in_reply_to_screen_name</th>\n",
       "      <th>user</th>\n",
       "      <th>geo</th>\n",
       "      <th>coordinates</th>\n",
       "      <th>place</th>\n",
       "      <th>contributors</th>\n",
       "      <th>is_quote_status</th>\n",
       "      <th>quote_count</th>\n",
       "      <th>reply_count</th>\n",
       "      <th>retweet_count</th>\n",
       "      <th>favorite_count</th>\n",
       "      <th>entities</th>\n",
       "      <th>favorited</th>\n",
       "      <th>retweeted</th>\n",
       "      <th>filter_level</th>\n",
       "      <th>lang</th>\n",
       "      <th>timestamp_ms</th>\n",
       "      <th>id</th>\n",
       "      <th>id_str</th>\n",
       "      <th>name</th>\n",
       "      <th>screen_name</th>\n",
       "      <th>location</th>\n",
       "      <th>url</th>\n",
       "      <th>description</th>\n",
       "      <th>translator_type</th>\n",
       "      <th>protected</th>\n",
       "      <th>verified</th>\n",
       "      <th>followers_count</th>\n",
       "      <th>friends_count</th>\n",
       "      <th>listed_count</th>\n",
       "      <th>favourites_count</th>\n",
       "      <th>statuses_count</th>\n",
       "      <th>created_at</th>\n",
       "      <th>utc_offset</th>\n",
       "      <th>time_zone</th>\n",
       "      <th>geo_enabled</th>\n",
       "      <th>lang</th>\n",
       "      <th>contributors_enabled</th>\n",
       "      <th>is_translator</th>\n",
       "      <th>profile_background_color</th>\n",
       "      <th>profile_background_image_url</th>\n",
       "      <th>profile_background_image_url_https</th>\n",
       "      <th>profile_background_tile</th>\n",
       "      <th>profile_link_color</th>\n",
       "      <th>profile_sidebar_border_color</th>\n",
       "      <th>profile_sidebar_fill_color</th>\n",
       "      <th>profile_text_color</th>\n",
       "      <th>profile_use_background_image</th>\n",
       "      <th>profile_image_url</th>\n",
       "      <th>profile_image_url_https</th>\n",
       "      <th>default_profile</th>\n",
       "      <th>default_profile_image</th>\n",
       "      <th>following</th>\n",
       "      <th>follow_request_sent</th>\n",
       "      <th>notifications</th>\n",
       "    </tr>\n",
       "  </thead>\n",
       "  <tbody>\n",
       "  </tbody>\n",
       "</table>\n",
       "</div>"
      ],
      "text/plain": [
       "Empty DataFrame\n",
       "Columns: [created_at, id_str, text, source, truncated, in_reply_to_status_id, in_reply_to_status_id_str, in_reply_to_user_id, in_reply_to_user_id_str, in_reply_to_screen_name, user, geo, coordinates, place, contributors, is_quote_status, quote_count, reply_count, retweet_count, favorite_count, entities, favorited, retweeted, filter_level, lang, timestamp_ms, id, id_str, name, screen_name, location, url, description, translator_type, protected, verified, followers_count, friends_count, listed_count, favourites_count, statuses_count, created_at, utc_offset, time_zone, geo_enabled, lang, contributors_enabled, is_translator, profile_background_color, profile_background_image_url, profile_background_image_url_https, profile_background_tile, profile_link_color, profile_sidebar_border_color, profile_sidebar_fill_color, profile_text_color, profile_use_background_image, profile_image_url, profile_image_url_https, default_profile, default_profile_image, following, follow_request_sent, notifications]\n",
       "Index: []"
      ]
     },
     "execution_count": 53,
     "metadata": {},
     "output_type": "execute_result"
    }
   ],
   "source": [
    "sampleDataFrame"
   ]
  },
  {
   "cell_type": "code",
   "execution_count": 109,
   "metadata": {},
   "outputs": [],
   "source": [
    "def cleanSampleUser(userJson):\n",
    "    # clean userJsonn\n",
    "    keys = userJson.keys()\n",
    "    for k in list(keys):\n",
    "        # delete all profile key\n",
    "        if k.startswith(\"profile\"):\n",
    "            del userJson[k]\n",
    "        else:\n",
    "            userJson[\"user_\" + k] = userJson.pop(k)\n",
    "    userJson.pop('translator_type', None)\n",
    "    userJson.pop('is_translator', None)\n",
    "    userJson.pop('notifications', None)\n",
    "    userJson.pop('following', None)\n",
    "    userJson.pop('follow_request_sent', None)\n",
    "    userJson.pop('id', None)\n",
    "    \n",
    "    return userJson\n",
    "\n",
    "\n",
    "def cleanSamplePlace(placeJson):\n",
    "    print(placeJson)\n",
    "    # clean place json\n",
    "    keys = placeJson.keys()\n",
    "    for k in list(keys):\n",
    "        placeJson['place_' + k] = placeJson.pop(k)\n",
    "    placeJson.pop('url', None)\n",
    "    \n",
    "    return placeJson\n",
    "\n",
    "\n",
    "def cleanSampleTweets(samplePath):\n",
    "    # read\n",
    "    output = []\n",
    "    sampleJsons = read_json(samplePath)\n",
    "    \n",
    "    for index, sampleJson in enumerate(sampleJsons):\n",
    "        userJson = sampleJson['user']\n",
    "        userJson = cleanSampleUser(userJson)\n",
    "        sampleJson.pop('user', None)\n",
    "        #placeJson = sampleJson['place']\n",
    "        #placeJson = cleanSamplePlace(placeJson)\n",
    "        #sampleJson.pop('place', None)\n",
    "\n",
    "        keys = sampleJson.keys()\n",
    "        for k in list(keys):\n",
    "            # delete all reply key\n",
    "            if k.startswith('in_reply'):\n",
    "                del sampleJson[k]\n",
    "\n",
    "        # clean sample json\n",
    "        if sampleJson['coordinates'] is None:\n",
    "            # the coordinates is differ from the geo tag\n",
    "            sampleJson['coordinates'] = [sampleJson['geo']['coordinates'][1], sampleJson['geo']['coordinates'][0]]\n",
    "        else:\n",
    "            sampleJson['coordinates'] = sampleJson['coordinates']['coordinates']\n",
    "            \n",
    "        userJson.pop('truncated', None)\n",
    "        userJson.pop('is_translator', None)\n",
    "        userJson.pop('id', None)\n",
    "        userJson.pop('contributors', None)\n",
    "        userJson.pop('geo', None)\n",
    "        userJson.pop('id', None)\n",
    "        sampleJson.update(userJson)\n",
    "        #sampleJson.update(placeJson)\n",
    "        output.append(sampleJson)\n",
    "\n",
    "    return output"
   ]
  },
  {
   "cell_type": "code",
   "execution_count": 110,
   "metadata": {},
   "outputs": [],
   "source": [
    "cleaned = []\n",
    "cleanedSet = {}\n",
    "for sp in sampleDataPath:\n",
    "    cleaned += cleanSampleTweets(sp)\n",
    "\n",
    "for index, i in enumerate(cleaned):\n",
    "    cleanedSet[str(index)] = i\n",
    "del cleaned"
   ]
  },
  {
   "cell_type": "code",
   "execution_count": 116,
   "metadata": {},
   "outputs": [],
   "source": [
    "with open(outputFolder + \"/\" + \"cleanedSet.json\", \"w\") as file:\n",
    "    json.dump(cleanedSet, file)"
   ]
  },
  {
   "cell_type": "code",
   "execution_count": null,
   "metadata": {},
   "outputs": [],
   "source": []
  },
  {
   "cell_type": "code",
   "execution_count": null,
   "metadata": {},
   "outputs": [],
   "source": []
  }
 ],
 "metadata": {
  "kernelspec": {
   "display_name": "Python 3",
   "language": "python",
   "name": "python3"
  },
  "language_info": {
   "codemirror_mode": {
    "name": "ipython",
    "version": 3
   },
   "file_extension": ".py",
   "mimetype": "text/x-python",
   "name": "python",
   "nbconvert_exporter": "python",
   "pygments_lexer": "ipython3",
   "version": "3.8.2"
  }
 },
 "nbformat": 4,
 "nbformat_minor": 4
}
