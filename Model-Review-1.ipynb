{
 "cells": [
  {
   "cell_type": "code",
   "execution_count": 1,
   "metadata": {},
   "outputs": [],
   "source": [
    "### Data handling imports\n",
    "import pandas as pd\n",
    "import matplotlib.pyplot as plt\n",
    "import csv\n",
    "import json\n",
    "import numpy as np\n",
    "import os\n",
    "import itertools\n",
    "import collections\n",
    "import tweepy\n",
    "import nltk\n",
    "from nltk.corpus import stopwords\n",
    "import re\n",
    "\n",
    "# import networkx\n",
    "from textblob import TextBlob\n",
    "import pandas as pd\n",
    "import math\n",
    "import numpy as np\n",
    "from nltk.tokenize import word_tokenize\n",
    "from nltk.tokenize import RegexpTokenizer\n",
    "from nltk.stem import PorterStemmer\n",
    "import json\n",
    "import warnings\n",
    "from collections import defaultdict\n",
    "from sklearn.cluster import KMeans\n",
    "import textwrap\n",
    "from vaderSentiment.vaderSentiment import SentimentIntensityAnalyzer\n",
    "import matplotlib.cm as cm\n",
    "from sklearn.cluster import MiniBatchKMeans\n",
    "from sklearn.feature_extraction.text import TfidfVectorizer\n",
    "from sklearn.decomposition import PCA\n",
    "from sklearn.manifold import TSNE\n",
    "import string\n",
    "from nltk.tokenize import TweetTokenizer\n",
    "from nltk.corpus import stopwords\n",
    "from collections import Counter\n",
    "\n",
    "warnings.filterwarnings(\"ignore\")\n",
    "# pd.set_option('display.max_rows', 500)\n",
    "# pd.set_option('display.max_columns', 500)\n",
    "pd.set_option(\"display.width\", 1000)\n",
    "pd.options.display.max_rows\n",
    "pd.set_option(\"display.max_colwidth\", -1)\n",
    "# from utils.text_wapper import remove_url"
   ]
  },
  {
   "cell_type": "markdown",
   "metadata": {},
   "source": [
    "## Overview\n",
    "The PBL final used a back propagation neural network to fit the data from the previous section (a virtual species dataset with different variables and covariables). \n",
    "\n",
    "In our proposed research, we can try back propagation (BP) mode first, then find some different binary models. Assume other models will be better than the traditional BP model, we should use the same evaluation method to compare their accuracy. \n",
    "\n",
    "Since our data is unstructured text based, location based data. We might not directly use the BP network to fit into our data. Here is the dimension of the data that we got:"
   ]
  },
  {
   "cell_type": "markdown",
   "metadata": {},
   "source": [
    "### Tweets"
   ]
  },
  {
   "cell_type": "code",
   "execution_count": 2,
   "metadata": {},
   "outputs": [
    {
     "name": "stdout",
     "output_type": "stream",
     "text": [
      "<class 'pandas.core.frame.DataFrame'>\n",
      "RangeIndex: 256449 entries, 0 to 256448\n",
      "Data columns (total 39 columns):\n",
      " #   Column                   Non-Null Count   Dtype  \n",
      "---  ------                   --------------   -----  \n",
      " 0   created_at               256449 non-null  object \n",
      " 1   id                       256449 non-null  int64  \n",
      " 2   id_str                   256449 non-null  int64  \n",
      " 3   text                     256449 non-null  object \n",
      " 4   truncated                256449 non-null  bool   \n",
      " 5   geo                      256449 non-null  object \n",
      " 6   place                    255980 non-null  object \n",
      " 7   quote_count              256449 non-null  float64\n",
      " 8   reply_count              256449 non-null  float64\n",
      " 9   retweet_count            256449 non-null  float64\n",
      " 10  favorite_count           256449 non-null  float64\n",
      " 11  entities                 256449 non-null  object \n",
      " 12  lang                     256449 non-null  object \n",
      " 13  timestamp_ms             256449 non-null  object \n",
      " 14  user_id_str              256449 non-null  float64\n",
      " 15  user_name                256446 non-null  object \n",
      " 16  user_screen_name         256449 non-null  object \n",
      " 17  user_location            234660 non-null  object \n",
      " 18  user_description         239560 non-null  object \n",
      " 19  user_verified            256449 non-null  bool   \n",
      " 20  user_followers_count     256449 non-null  float64\n",
      " 21  user_friends_count       256449 non-null  float64\n",
      " 22  user_listed_count        256449 non-null  float64\n",
      " 23  user_favourites_count    256449 non-null  float64\n",
      " 24  user_statuses_count      256449 non-null  float64\n",
      " 25  user_created_at          256449 non-null  object \n",
      " 26  user_utc_offset          0 non-null       float64\n",
      " 27  user_geo_enabled         256449 non-null  bool   \n",
      " 28  user_lang                0 non-null       float64\n",
      " 29  user_default_profile     256449 non-null  bool   \n",
      " 30  display_text_range       11377 non-null   object \n",
      " 31  extended_entities        6778 non-null    object \n",
      " 32  possibly_sensitive       195497 non-null  float64\n",
      " 33  extended_tweet           132529 non-null  object \n",
      " 34  quoted_status_id         911 non-null     float64\n",
      " 35  quoted_status_id_str     911 non-null     float64\n",
      " 36  quoted_status            911 non-null     object \n",
      " 37  quoted_status_permalink  911 non-null     object \n",
      " 38  CountyId                 256449 non-null  float64\n",
      "dtypes: bool(4), float64(16), int64(2), object(17)\n",
      "memory usage: 69.5+ MB\n"
     ]
    }
   ],
   "source": [
    "sample_path_1 = \"twitter-demographics/twittes-with-geocoding-cleaned.csv\"\n",
    "sample_df_1 = pd.read_csv(sample_path_1)\n",
    "sample_df_1.info(1)"
   ]
  },
  {
   "cell_type": "markdown",
   "metadata": {},
   "source": [
    "### Census\n",
    "Each tweets data show above is a row, and it contains CountyId columns as a index of census data. The head of census data shows below: "
   ]
  },
  {
   "cell_type": "code",
   "execution_count": 3,
   "metadata": {},
   "outputs": [
    {
     "name": "stdout",
     "output_type": "stream",
     "text": [
      "<class 'pandas.core.frame.DataFrame'>\n",
      "RangeIndex: 3219 entries, 0 to 3218\n",
      "Data columns (total 37 columns):\n",
      " #   Column            Non-Null Count  Dtype  \n",
      "---  ------            --------------  -----  \n",
      " 0   CountyId          3219 non-null   int64  \n",
      " 1   State             3219 non-null   object \n",
      " 2   County            3219 non-null   object \n",
      " 3   TotalPop          3219 non-null   int64  \n",
      " 4   Men               3219 non-null   int64  \n",
      " 5   Women             3219 non-null   int64  \n",
      " 6   Hispanic          3219 non-null   float64\n",
      " 7   White             3219 non-null   float64\n",
      " 8   Black             3219 non-null   float64\n",
      " 9   Native            3219 non-null   float64\n",
      " 10  Asian             3219 non-null   float64\n",
      " 11  Pacific           3219 non-null   float64\n",
      " 12  VotingAgeCitizen  3219 non-null   int64  \n",
      " 13  Income            3219 non-null   int64  \n",
      " 14  IncomeErr         3219 non-null   int64  \n",
      " 15  IncomePerCap      3219 non-null   int64  \n",
      " 16  IncomePerCapErr   3219 non-null   int64  \n",
      " 17  Poverty           3219 non-null   float64\n",
      " 18  ChildPoverty      3219 non-null   float64\n",
      " 19  Professional      3219 non-null   float64\n",
      " 20  Service           3219 non-null   float64\n",
      " 21  Office            3219 non-null   float64\n",
      " 22  Construction      3219 non-null   float64\n",
      " 23  Production        3219 non-null   float64\n",
      " 24  Drive             3219 non-null   float64\n",
      " 25  Carpool           3219 non-null   float64\n",
      " 26  Transit           3219 non-null   float64\n",
      " 27  Walk              3219 non-null   float64\n",
      " 28  OtherTransp       3219 non-null   float64\n",
      " 29  WorkAtHome        3219 non-null   float64\n",
      " 30  MeanCommute       3219 non-null   float64\n",
      " 31  Employed          3219 non-null   int64  \n",
      " 32  PrivateWork       3219 non-null   float64\n",
      " 33  PublicWork        3219 non-null   float64\n",
      " 34  SelfEmployed      3219 non-null   float64\n",
      " 35  FamilyWork        3219 non-null   float64\n",
      " 36  Unemployment      3219 non-null   float64\n",
      "dtypes: float64(25), int64(10), object(2)\n",
      "memory usage: 930.6+ KB\n"
     ]
    }
   ],
   "source": [
    "sample_path_2 = \"us-census/tract_2017.csv\"\n",
    "sample_df_2 = pd.read_csv(sample_path_2)\n",
    "sample_df_2.info(1)"
   ]
  },
  {
   "cell_type": "markdown",
   "metadata": {},
   "source": [
    "the shape of the two dataset is:"
   ]
  },
  {
   "cell_type": "code",
   "execution_count": 4,
   "metadata": {},
   "outputs": [
    {
     "name": "stdout",
     "output_type": "stream",
     "text": [
      "(256449, 39) (3219, 37)\n"
     ]
    }
   ],
   "source": [
    "print(sample_df_1.shape, sample_df_2.shape)"
   ]
  },
  {
   "cell_type": "code",
   "execution_count": 5,
   "metadata": {},
   "outputs": [
    {
     "name": "stdout",
     "output_type": "stream",
     "text": [
      "256449 76\n"
     ]
    }
   ],
   "source": [
    "# then if we put those two different dataset together, the final shape will be.\n",
    "final_shape = 39 + 37\n",
    "print(256449, final_shape)"
   ]
  },
  {
   "cell_type": "markdown",
   "metadata": {},
   "source": [
    "## Encoding\n",
    "Some of the columns store in float or double value, others is string value. Those string value is required to be encoded so that the binary model can read those data. Before getting into encoding, some of the data variables might be cleared:\n",
    "\n",
    "+ binary data: like true or false, 1 or 0: e.g. gender\n",
    "+ categorical data: is a variable that can take some limited number of avalues. e.g., race: 1: nh_white, 2: nh_black ...\n",
    "+ Ordinal data: float, double or rating that are given to a move by users \n",
    "+ Nominal data: is a variable that has no particular numerical importance, such as ossupation, username\n",
    "+ timeseries data: as its name suggests"
   ]
  },
  {
   "cell_type": "markdown",
   "metadata": {},
   "source": [
    "### Feature hashing\n",
    "Feature hashing is used to represent categories in a \"one hot encoding style\" as a sparse martirx but with a much lower dimension. In feature hashing we apply a hashing function to category and then represent it by its indices. e.g. if we use a dimension of 5 to represent \"New York\" we will caculate H(New York) mode 5 = 3 (just example) so New York representattion will be (0,0,0,1,0)"
   ]
  },
  {
   "cell_type": "code",
   "execution_count": 6,
   "metadata": {},
   "outputs": [
    {
     "name": "stdout",
     "output_type": "stream",
     "text": [
      "2.2.0-rc2\n",
      "tf.Tensor(312.63388, shape=(), dtype=float32)\n"
     ]
    }
   ],
   "source": [
    "from sklearn.feature_extraction import FeatureHasher\n",
    "import tensorflow as tf\n",
    "\n",
    "print(tf.__version__)\n",
    "print(tf.reduce_sum(tf.random.normal([1000, 1000])))"
   ]
  },
  {
   "cell_type": "code",
   "execution_count": 7,
   "metadata": {},
   "outputs": [],
   "source": [
    "# import covid twitter data\n",
    "covid_tweets_data_path = \"/scratch/user/diya.li/kaggle-data/covid-twitter/\"\n",
    "hashtags_df = pd.read_csv(covid_tweets_data_path + \"Hashtags.CSV\")\n",
    "\n",
    "# country code set\n",
    "countries_code_df = pd.read_csv(covid_tweets_data_path + \"Countries.CSV\").dropna()\n",
    "countries_code_set = [\n",
    "    {country: country_code}\n",
    "    for country, country_code in zip(\n",
    "        countries_code_df.country, countries_code_df.country_code\n",
    "    )\n",
    "]"
   ]
  },
  {
   "cell_type": "code",
   "execution_count": 8,
   "metadata": {},
   "outputs": [],
   "source": [
    "# tweets content\n",
    "tweets_df = pd.DataFrame()\n",
    "for file in os.listdir(covid_tweets_data_path):\n",
    "    if file.startswith(\"2020\"):\n",
    "        tweets_df = tweets_df.append(pd.read_csv(covid_tweets_data_path + file))"
   ]
  },
  {
   "cell_type": "code",
   "execution_count": 9,
   "metadata": {},
   "outputs": [
    {
     "data": {
      "text/html": [
       "<div>\n",
       "<style scoped>\n",
       "    .dataframe tbody tr th:only-of-type {\n",
       "        vertical-align: middle;\n",
       "    }\n",
       "\n",
       "    .dataframe tbody tr th {\n",
       "        vertical-align: top;\n",
       "    }\n",
       "\n",
       "    .dataframe thead th {\n",
       "        text-align: right;\n",
       "    }\n",
       "</style>\n",
       "<table border=\"1\" class=\"dataframe\">\n",
       "  <thead>\n",
       "    <tr style=\"text-align: right;\">\n",
       "      <th></th>\n",
       "      <th>status_id</th>\n",
       "      <th>user_id</th>\n",
       "      <th>created_at</th>\n",
       "      <th>screen_name</th>\n",
       "      <th>text</th>\n",
       "      <th>source</th>\n",
       "      <th>reply_to_status_id</th>\n",
       "      <th>reply_to_user_id</th>\n",
       "      <th>reply_to_screen_name</th>\n",
       "      <th>is_quote</th>\n",
       "      <th>...</th>\n",
       "      <th>retweet_count</th>\n",
       "      <th>country_code</th>\n",
       "      <th>place_full_name</th>\n",
       "      <th>place_type</th>\n",
       "      <th>followers_count</th>\n",
       "      <th>friends_count</th>\n",
       "      <th>account_lang</th>\n",
       "      <th>account_created_at</th>\n",
       "      <th>verified</th>\n",
       "      <th>lang</th>\n",
       "    </tr>\n",
       "  </thead>\n",
       "  <tbody>\n",
       "    <tr>\n",
       "      <th>0</th>\n",
       "      <td>1238615829341560832</td>\n",
       "      <td>1072590021201420294</td>\n",
       "      <td>2020-03-14T00:00:00Z</td>\n",
       "      <td>YalePediatrics</td>\n",
       "      <td>Calling #COVID19 the “Wuhan Virus” or “China Virus” is inaccurate and xenophobic  https://t.co/0f0KRkcDj4</td>\n",
       "      <td>TweetDeck</td>\n",
       "      <td>NaN</td>\n",
       "      <td>NaN</td>\n",
       "      <td>NaN</td>\n",
       "      <td>False</td>\n",
       "      <td>...</td>\n",
       "      <td>0</td>\n",
       "      <td>NaN</td>\n",
       "      <td>NaN</td>\n",
       "      <td>NaN</td>\n",
       "      <td>512</td>\n",
       "      <td>1456</td>\n",
       "      <td>NaN</td>\n",
       "      <td>2018-12-11T20:32:43Z</td>\n",
       "      <td>False</td>\n",
       "      <td>en</td>\n",
       "    </tr>\n",
       "    <tr>\n",
       "      <th>1</th>\n",
       "      <td>1238615828527972353</td>\n",
       "      <td>78720160</td>\n",
       "      <td>2020-03-14T00:00:00Z</td>\n",
       "      <td>MatrizOpinion</td>\n",
       "      <td>Así se detiene el mundo por el coronavirus\\n\\nEntra en nuestro link https://t.co/yCCalZuFXp y entérate de cuáles son las medidas tomadas mundialmente para evitar la propagación del virus.\\n\\n#Virus #13Mar #COVID19 https://t.co/xrFxoorq9z</td>\n",
       "      <td>TweetDeck</td>\n",
       "      <td>NaN</td>\n",
       "      <td>NaN</td>\n",
       "      <td>NaN</td>\n",
       "      <td>False</td>\n",
       "      <td>...</td>\n",
       "      <td>0</td>\n",
       "      <td>NaN</td>\n",
       "      <td>NaN</td>\n",
       "      <td>NaN</td>\n",
       "      <td>23818</td>\n",
       "      <td>26341</td>\n",
       "      <td>NaN</td>\n",
       "      <td>2009-09-30T22:02:42Z</td>\n",
       "      <td>False</td>\n",
       "      <td>es</td>\n",
       "    </tr>\n",
       "    <tr>\n",
       "      <th>2</th>\n",
       "      <td>1238615827370455040</td>\n",
       "      <td>45013575</td>\n",
       "      <td>2020-03-14T00:00:00Z</td>\n",
       "      <td>teleSURtv</td>\n",
       "      <td>Lo primero que hay que hacer es: \\n\\n✅NO entrar en pánico 👈🏾\\n\\nY, en segundo lugar tomar las medidas correspondientes para evitar un posible contagio\\n\\nPrepararse activamente y conocer todo sobre el #Covid19 será nuestra mejor arma de combate😷 https://t.co/BjTsv32d0G https://t.co/ihHSKQQvBz</td>\n",
       "      <td>TweetDeck</td>\n",
       "      <td>NaN</td>\n",
       "      <td>NaN</td>\n",
       "      <td>NaN</td>\n",
       "      <td>False</td>\n",
       "      <td>...</td>\n",
       "      <td>12</td>\n",
       "      <td>NaN</td>\n",
       "      <td>NaN</td>\n",
       "      <td>NaN</td>\n",
       "      <td>1830811</td>\n",
       "      <td>287</td>\n",
       "      <td>NaN</td>\n",
       "      <td>2009-06-05T22:21:49Z</td>\n",
       "      <td>True</td>\n",
       "      <td>es</td>\n",
       "    </tr>\n",
       "    <tr>\n",
       "      <th>3</th>\n",
       "      <td>1238615828691668992</td>\n",
       "      <td>15872418</td>\n",
       "      <td>2020-03-14T00:00:00Z</td>\n",
       "      <td>ABSCBNNews</td>\n",
       "      <td>The World Health Organization has declared Europe as the 'epicenter' of the #COVID19 pandemic after it recorded the highest number of cases and deaths than the rest of the world combined aside from China. https://t.co/G7XxTpuy4h</td>\n",
       "      <td>TweetDeck</td>\n",
       "      <td>NaN</td>\n",
       "      <td>NaN</td>\n",
       "      <td>NaN</td>\n",
       "      <td>False</td>\n",
       "      <td>...</td>\n",
       "      <td>272</td>\n",
       "      <td>NaN</td>\n",
       "      <td>NaN</td>\n",
       "      <td>NaN</td>\n",
       "      <td>6705845</td>\n",
       "      <td>1075</td>\n",
       "      <td>NaN</td>\n",
       "      <td>2008-08-16T10:09:33Z</td>\n",
       "      <td>True</td>\n",
       "      <td>en</td>\n",
       "    </tr>\n",
       "    <tr>\n",
       "      <th>4</th>\n",
       "      <td>1238615830360756227</td>\n",
       "      <td>38277042</td>\n",
       "      <td>2020-03-14T00:00:00Z</td>\n",
       "      <td>889Noticias</td>\n",
       "      <td>En unos minutos, @889romo te comenta en @889Noticias, de las recomendaciones para prevenir casos de #COVID19 y las medidas a seguir en el transporte público, escucha a través de #internet  https://t.co/JqJiUMCbf8   vg</td>\n",
       "      <td>TweetDeck</td>\n",
       "      <td>NaN</td>\n",
       "      <td>NaN</td>\n",
       "      <td>NaN</td>\n",
       "      <td>False</td>\n",
       "      <td>...</td>\n",
       "      <td>0</td>\n",
       "      <td>NaN</td>\n",
       "      <td>NaN</td>\n",
       "      <td>NaN</td>\n",
       "      <td>262080</td>\n",
       "      <td>164</td>\n",
       "      <td>NaN</td>\n",
       "      <td>2009-05-06T21:09:11Z</td>\n",
       "      <td>True</td>\n",
       "      <td>es</td>\n",
       "    </tr>\n",
       "  </tbody>\n",
       "</table>\n",
       "<p>5 rows × 22 columns</p>\n",
       "</div>"
      ],
      "text/plain": [
       "             status_id              user_id            created_at     screen_name                                                                                                                                                                                                                                                                                                   text     source  reply_to_status_id  reply_to_user_id reply_to_screen_name  is_quote  ...  retweet_count  country_code  place_full_name place_type followers_count friends_count  account_lang    account_created_at  verified lang\n",
       "0  1238615829341560832  1072590021201420294  2020-03-14T00:00:00Z  YalePediatrics  Calling #COVID19 the “Wuhan Virus” or “China Virus” is inaccurate and xenophobic  https://t.co/0f0KRkcDj4                                                                                                                                                                                              TweetDeck NaN                 NaN                NaN                  False     ...  0              NaN           NaN              NaN        512             1456         NaN            2018-12-11T20:32:43Z  False     en \n",
       "1  1238615828527972353  78720160             2020-03-14T00:00:00Z  MatrizOpinion   Así se detiene el mundo por el coronavirus\\n\\nEntra en nuestro link https://t.co/yCCalZuFXp y entérate de cuáles son las medidas tomadas mundialmente para evitar la propagación del virus.\\n\\n#Virus #13Mar #COVID19 https://t.co/xrFxoorq9z                                                          TweetDeck NaN                 NaN                NaN                  False     ...  0              NaN           NaN              NaN        23818           26341        NaN            2009-09-30T22:02:42Z  False     es \n",
       "2  1238615827370455040  45013575             2020-03-14T00:00:00Z  teleSURtv       Lo primero que hay que hacer es: \\n\\n✅NO entrar en pánico 👈🏾\\n\\nY, en segundo lugar tomar las medidas correspondientes para evitar un posible contagio\\n\\nPrepararse activamente y conocer todo sobre el #Covid19 será nuestra mejor arma de combate😷 https://t.co/BjTsv32d0G https://t.co/ihHSKQQvBz  TweetDeck NaN                 NaN                NaN                  False     ...  12             NaN           NaN              NaN        1830811         287          NaN            2009-06-05T22:21:49Z  True      es \n",
       "3  1238615828691668992  15872418             2020-03-14T00:00:00Z  ABSCBNNews      The World Health Organization has declared Europe as the 'epicenter' of the #COVID19 pandemic after it recorded the highest number of cases and deaths than the rest of the world combined aside from China. https://t.co/G7XxTpuy4h                                                                   TweetDeck NaN                 NaN                NaN                  False     ...  272            NaN           NaN              NaN        6705845         1075         NaN            2008-08-16T10:09:33Z  True      en \n",
       "4  1238615830360756227  38277042             2020-03-14T00:00:00Z  889Noticias     En unos minutos, @889romo te comenta en @889Noticias, de las recomendaciones para prevenir casos de #COVID19 y las medidas a seguir en el transporte público, escucha a través de #internet  https://t.co/JqJiUMCbf8   vg                                                                              TweetDeck NaN                 NaN                NaN                  False     ...  0              NaN           NaN              NaN        262080          164          NaN            2009-05-06T21:09:11Z  True      es \n",
       "\n",
       "[5 rows x 22 columns]"
      ]
     },
     "execution_count": 9,
     "metadata": {},
     "output_type": "execute_result"
    }
   ],
   "source": [
    "tweets_df.head()"
   ]
  },
  {
   "cell_type": "code",
   "execution_count": 14,
   "metadata": {},
   "outputs": [],
   "source": [
    "filter_fear = [\"panic\", \"fear\", \"terrible\", \"afraid\", \"bad\"]\n",
    "filter_fear_rg = \"|\".join(filter_fear)\n",
    "# filter_heart = [\"heart disease\"]\n",
    "from nltk.tokenize import sent_tokenize\n",
    "from nltk.tokenize import word_tokenize"
   ]
  },
  {
   "cell_type": "code",
   "execution_count": 124,
   "metadata": {},
   "outputs": [],
   "source": [
    "tweets_df.to_csv(\"./depression/covid-tweets.csv\", index=False)"
   ]
  },
  {
   "cell_type": "code",
   "execution_count": 11,
   "metadata": {},
   "outputs": [
    {
     "data": {
      "text/plain": [
       "(8219548, 22)"
      ]
     },
     "execution_count": 11,
     "metadata": {},
     "output_type": "execute_result"
    }
   ],
   "source": [
    "tweets_df.shape"
   ]
  },
  {
   "cell_type": "code",
   "execution_count": 13,
   "metadata": {},
   "outputs": [],
   "source": [
    "tweets_df = tweets_df.drop(['source', 'reply_to_status_id', 'reply_to_user_id', 'account_created_at'], axis=1)"
   ]
  },
  {
   "cell_type": "code",
   "execution_count": 15,
   "metadata": {},
   "outputs": [
    {
     "data": {
      "text/plain": [
       "'panic|fear|terrible|afraid|bad'"
      ]
     },
     "execution_count": 15,
     "metadata": {},
     "output_type": "execute_result"
    }
   ],
   "source": [
    "filter_fear_rg"
   ]
  },
  {
   "cell_type": "code",
   "execution_count": 17,
   "metadata": {},
   "outputs": [],
   "source": [
    "df_fear = tweets_df[tweets_df['text'].str.contains(filter_fear_rg, case=False, regex=True)]"
   ]
  },
  {
   "cell_type": "code",
   "execution_count": 20,
   "metadata": {},
   "outputs": [],
   "source": [
    "df_fear.to_csv(\"twitter-covid-fear.csv\", index=False)"
   ]
  },
  {
   "cell_type": "code",
   "execution_count": 34,
   "metadata": {},
   "outputs": [
    {
     "name": "stdout",
     "output_type": "stream",
     "text": [
      "0\n",
      "100000\n",
      "200000\n",
      "300000\n",
      "400000\n",
      "500000\n",
      "600000\n",
      "700000\n",
      "800000\n",
      "900000\n",
      "1000000\n",
      "1100000\n",
      "1200000\n",
      "1300000\n",
      "1400000\n",
      "1500000\n",
      "1600000\n",
      "1700000\n",
      "1800000\n",
      "1900000\n",
      "2000000\n",
      "2100000\n",
      "2200000\n",
      "2300000\n",
      "2400000\n",
      "2500000\n",
      "2600000\n",
      "2700000\n",
      "2800000\n",
      "2900000\n",
      "3000000\n",
      "3100000\n",
      "3200000\n",
      "3300000\n",
      "3400000\n",
      "3500000\n",
      "3600000\n",
      "3700000\n",
      "3800000\n",
      "3900000\n",
      "4000000\n",
      "4100000\n",
      "4200000\n",
      "4300000\n",
      "4400000\n",
      "4500000\n",
      "4600000\n",
      "4700000\n",
      "4800000\n",
      "4900000\n",
      "5000000\n",
      "5100000\n",
      "5200000\n",
      "5300000\n",
      "5400000\n",
      "5500000\n",
      "5600000\n",
      "5700000\n",
      "5800000\n",
      "5900000\n",
      "6000000\n",
      "6100000\n",
      "6200000\n",
      "6300000\n",
      "6400000\n",
      "6500000\n",
      "6600000\n",
      "6700000\n",
      "6800000\n",
      "6900000\n",
      "7000000\n",
      "7100000\n",
      "7200000\n",
      "7300000\n",
      "7400000\n",
      "7500000\n",
      "7600000\n",
      "7700000\n",
      "7800000\n",
      "7900000\n",
      "8000000\n",
      "8100000\n",
      "8200000\n"
     ]
    }
   ],
   "source": [
    "filter_result_fear = []\n",
    "filter_result_heart = []\n",
    "for index, sentence in enumerate(tweets_df[\"text\"]):\n",
    "    sentence_token = word_tokenize(sentence)\n",
    "    for token in sentence_token:\n",
    "        if token in filter_fear:\n",
    "            filter_result_fear.append(sentence)\n",
    "        if token in filter_result_heart:\n",
    "            filter_result_heart.append(sentence)\n",
    "    if index % 100000 == 0:\n",
    "        print(index)"
   ]
  },
  {
   "cell_type": "code",
   "execution_count": 37,
   "metadata": {},
   "outputs": [
    {
     "data": {
      "text/plain": [
       "120262"
      ]
     },
     "execution_count": 37,
     "metadata": {},
     "output_type": "execute_result"
    }
   ],
   "source": [
    "len(filter_result_fear)"
   ]
  },
  {
   "cell_type": "code",
   "execution_count": 38,
   "metadata": {},
   "outputs": [],
   "source": [
    "df = pd.DataFrame()\n",
    "df[\"text\"] = filter_result_fear"
   ]
  },
  {
   "cell_type": "code",
   "execution_count": 67,
   "metadata": {},
   "outputs": [],
   "source": [
    "df_output = pd.DataFrame(filter_result_fear, columns=[\"text\"])\n",
    "df_output.to_csv(\"./depression/fear_text.csv\", index=False)"
   ]
  },
  {
   "cell_type": "code",
   "execution_count": 39,
   "metadata": {},
   "outputs": [
    {
     "data": {
      "text/html": [
       "<div>\n",
       "<style scoped>\n",
       "    .dataframe tbody tr th:only-of-type {\n",
       "        vertical-align: middle;\n",
       "    }\n",
       "\n",
       "    .dataframe tbody tr th {\n",
       "        vertical-align: top;\n",
       "    }\n",
       "\n",
       "    .dataframe thead th {\n",
       "        text-align: right;\n",
       "    }\n",
       "</style>\n",
       "<table border=\"1\" class=\"dataframe\">\n",
       "  <thead>\n",
       "    <tr style=\"text-align: right;\">\n",
       "      <th></th>\n",
       "      <th>text</th>\n",
       "      <th>clean_text</th>\n",
       "    </tr>\n",
       "  </thead>\n",
       "  <tbody>\n",
       "    <tr>\n",
       "      <th>0</th>\n",
       "      <td>“Fear of the unknown is the greatest fear of a...</td>\n",
       "      <td>“Fear of the unknown is the greatest fear of a...</td>\n",
       "    </tr>\n",
       "    <tr>\n",
       "      <th>1</th>\n",
       "      <td>📣 New Podcast! \"COVID-19 Update Day One\" on @S...</td>\n",
       "      <td>📣 New Podcast! \"-19 Update Day One\" on Spreake...</td>\n",
       "    </tr>\n",
       "    <tr>\n",
       "      <th>2</th>\n",
       "      <td>Just watching the news. The message overall is...</td>\n",
       "      <td>Just watching the news. The message overall is...</td>\n",
       "    </tr>\n",
       "    <tr>\n",
       "      <th>3</th>\n",
       "      <td>We break the power of the spirit of fear in yo...</td>\n",
       "      <td>We break the power of the spirit of fear in yo...</td>\n",
       "    </tr>\n",
       "    <tr>\n",
       "      <th>4</th>\n",
       "      <td>We break the power of the spirit of fear in yo...</td>\n",
       "      <td>We break the power of the spirit of fear in yo...</td>\n",
       "    </tr>\n",
       "  </tbody>\n",
       "</table>\n",
       "</div>"
      ],
      "text/plain": [
       "                                                text  \\\n",
       "0  “Fear of the unknown is the greatest fear of a...   \n",
       "1  📣 New Podcast! \"COVID-19 Update Day One\" on @S...   \n",
       "2  Just watching the news. The message overall is...   \n",
       "3  We break the power of the spirit of fear in yo...   \n",
       "4  We break the power of the spirit of fear in yo...   \n",
       "\n",
       "                                          clean_text  \n",
       "0  “Fear of the unknown is the greatest fear of a...  \n",
       "1  📣 New Podcast! \"-19 Update Day One\" on Spreake...  \n",
       "2  Just watching the news. The message overall is...  \n",
       "3  We break the power of the spirit of fear in yo...  \n",
       "4  We break the power of the spirit of fear in yo...  "
      ]
     },
     "execution_count": 39,
     "metadata": {},
     "output_type": "execute_result"
    }
   ],
   "source": [
    "# removing URLs\n",
    "url_pattern = re.compile(\n",
    "    \"http[s]?://(?:[a-zA-Z]|[0-9]|[$-_@.&+]|[!*\\(\\),]|(?:%[0-9a-fA-F][0-9a-fA-F]))+\"\n",
    ")\n",
    "pic_pattern = re.compile(\"pic\\.twitter\\.com/.{10}\")\n",
    "keyword_pattern = re.compile(\"(covid|-19|_19|\\d+)\")\n",
    "df[\"clean_text\"] = df[\"text\"].apply(lambda buf: url_pattern.sub(\"\", buf))\n",
    "df[\"clean_text\"] = df[\"clean_text\"].apply(lambda buf: pic_pattern.sub(\"\", buf))\n",
    "df[\"clean_text\"] = df[\"clean_text\"].apply(lambda buf: buf.replace(\"@ \", \"@\"))\n",
    "df[\"clean_text\"] = df[\"clean_text\"].apply(lambda buf: buf.replace(\"# \", \"#\"))\n",
    "df[\"clean_text\"] = df[\"clean_text\"].apply(lambda buf: buf.replace(\"@\", \"\"))\n",
    "df[\"clean_text\"] = df[\"clean_text\"].apply(lambda buf: buf.replace(\"#\", \"\"))\n",
    "df[\"clean_text\"] = df[\"clean_text\"].apply(lambda buf: buf.replace(\"coronavirus\", \"\"))\n",
    "df[\"clean_text\"] = df[\"clean_text\"].apply(lambda buf: buf.replace(\"Coronavirus\", \"\"))\n",
    "df[\"clean_text\"] = df[\"clean_text\"].apply(lambda buf: buf.replace(\"covid19\", \"\"))\n",
    "df[\"clean_text\"] = df[\"clean_text\"].apply(lambda buf: buf.replace(\"covid-19\", \"\"))\n",
    "df[\"clean_text\"] = df[\"clean_text\"].apply(lambda buf: buf.replace(\"COVID\", \"\"))\n",
    "df[\"clean_text\"] = df[\"clean_text\"].apply(lambda buf: buf.replace(\"Covid-19\", \"\"))\n",
    "df[\"clean_text\"] = df[\"clean_text\"].apply(lambda buf: buf.replace(\"COVID-19\", \"\"))\n",
    "df[\"clean_text\"] = df[\"clean_text\"].apply(lambda buf: buf.replace(\"COVID19\", \"\"))\n",
    "df[\"clean_text\"] = df[\"clean_text\"].apply(lambda buf: buf.replace(\"virus\", \"\"))\n",
    "df[\"clean_text\"] = df[\"clean_text\"].apply(lambda buf: buf.replace(\"Covid19\", \"\"))\n",
    "\n",
    "df.head()"
   ]
  },
  {
   "cell_type": "code",
   "execution_count": 43,
   "metadata": {},
   "outputs": [],
   "source": [
    "# df_temp = df.groupby('user_id', as_index=False).agg(sum)\n",
    "# df_temp.head()\n",
    "df_temp = df"
   ]
  },
  {
   "cell_type": "code",
   "execution_count": 54,
   "metadata": {},
   "outputs": [
    {
     "name": "stdout",
     "output_type": "stream",
     "text": [
      "panic: 55331\n",
      "fear: 36451\n",
      "bad: 35521\n",
      "people: 24298\n",
      "pandemic: 18769\n",
      "covid: 17527\n",
      "_19: 16866\n",
      "outbreak: 11007\n",
      "us: 10320\n",
      "buying: 10157\n",
      "get: 9932\n",
      "afraid: 9722\n",
      "like: 9359\n",
      "need: 8938\n",
      "time: 8144\n",
      "terrible: 7157\n",
      "going: 6750\n",
      "one: 6490\n",
      "stop: 6325\n",
      "world: 6300\n"
     ]
    }
   ],
   "source": [
    "## Tweet term frequency using TweetTokenizer\n",
    "tweets_df = df_temp\n",
    "\n",
    "tweet_tokenizer = TweetTokenizer()\n",
    "punct = list(string.punctuation)\n",
    "stopwords_list = (\n",
    "    stopwords.words(\"english\") + punct + [\"rt\", \"via\", \"...\", \"…\", \"’\", \"—\", \"—:\", \"“\"]\n",
    ")\n",
    "term_frequency = Counter()\n",
    "\n",
    "\n",
    "def process_tweets_tokens(text, tokenizer=TweetTokenizer(), stopwords=stopwords_list):\n",
    "    \"\"\" Process the text of a tweet\n",
    "        - Lowercase\n",
    "        - Tokenize\n",
    "        - Stopword removal\n",
    "        - Digits removal \"\"\"\n",
    "    text = text.lower()\n",
    "    tokens = tokenizer.tokenize(text)\n",
    "    return [tok for tok in tokens if tok not in stopwords and not tok.isdigit()]\n",
    "\n",
    "\n",
    "def process_tweets(x):\n",
    "    twtokens = process_tweets_tokens(\n",
    "        x, tokenizer=tweet_tokenizer, stopwords=stopwords_list\n",
    "    )\n",
    "    return \" \".join(twtokens)\n",
    "\n",
    "\n",
    "for x in tweets_df.clean_text:\n",
    "    tweet_tokens = process_tweets_tokens(\n",
    "        x, tokenizer=tweet_tokenizer, stopwords=stopwords_list\n",
    "    )\n",
    "    term_frequency.update(tweet_tokens)\n",
    "\n",
    "for tag, count in term_frequency.most_common(20):\n",
    "    print(\"{}: {}\".format(tag, count))\n",
    "\n",
    "tweets_df[\"processed_tweets\"] = tweets_df[\"clean_text\"].apply(process_tweets)\n",
    "\n",
    "# tweets_df[['text', 'clean_text', 'processed_tweets']].head()\n",
    "\n",
    "## 6) WordCloud for most occuring words\n",
    "\n",
    "# from collections import Counter\n",
    "# # wordcloud in python\n",
    "# from wordcloud import WordCloud, STOPWORDS\n",
    "\n",
    "# import re\n",
    "# import string\n",
    "# import nltk # preprocessing text\n",
    "# from textblob import TextBlob\n",
    "\n",
    "# wordcloud = WordCloud(width=1600, height=800, random_state=1, max_words=100,colormap=\"Paired\", background_color='black',)\n",
    "# wordcloud.generate(str(tweets_df['processed_tweets']))\n",
    "# # declare our figure\n",
    "# plt.figure(figsize=(20,10))\n",
    "# plt.title(\"Top words - tweets\", fontsize=20,color='black')\n",
    "# plt.imshow(wordcloud, interpolation='bilinear')\n",
    "# plt.axis('off')\n",
    "# plt.tight_layout(pad=10)\n",
    "# plt.show()"
   ]
  },
  {
   "cell_type": "code",
   "execution_count": 55,
   "metadata": {},
   "outputs": [],
   "source": [
    "tfidf = TfidfVectorizer(min_df=5, max_df=0.95, max_features=8000, stop_words=\"english\")\n",
    "\n",
    "\n",
    "def find_optimal_clusters(data, max_k):\n",
    "    iters = range(2, max_k + 1, 2)\n",
    "\n",
    "    sse = []\n",
    "    for k in iters:\n",
    "        sse.append(\n",
    "            MiniBatchKMeans(\n",
    "                n_clusters=k, init_size=1024, batch_size=2048, random_state=20\n",
    "            )\n",
    "            .fit(data)\n",
    "            .inertia_\n",
    "        )\n",
    "        print(\"Fit {} clusters\".format(k))\n",
    "\n",
    "    f, ax = plt.subplots(1, 1)\n",
    "    ax.plot(iters, sse, marker=\"o\")\n",
    "    ax.set_xlabel(\"Cluster Centers\")\n",
    "    ax.set_xticks(iters)\n",
    "    ax.set_xticklabels(iters)\n",
    "    ax.set_ylabel(\"SSE\")\n",
    "    ax.set_title(\"SSE by Cluster Center Plot\")\n",
    "\n",
    "\n",
    "def plot_tsne_pca(data, labels):\n",
    "    max_label = max(labels)\n",
    "    max_items = np.random.choice(range(data.shape[0]), size=3000, replace=False)\n",
    "\n",
    "    pca = PCA(n_components=5).fit_transform(data[max_items, :].todense())\n",
    "    tsne = TSNE().fit_transform(\n",
    "        PCA(n_components=50).fit_transform(data[max_items, :].todense())\n",
    "    )\n",
    "\n",
    "    idx = np.random.choice(range(pca.shape[0]), size=300, replace=False)\n",
    "    label_subset = labels[max_items]\n",
    "    label_subset = [cm.hsv(i / max_label) for i in label_subset[idx]]\n",
    "\n",
    "    f, ax = plt.subplots(1, 2, figsize=(14, 6))\n",
    "\n",
    "    ax[0].scatter(pca[idx, 0], pca[idx, 1], c=label_subset)\n",
    "    ax[0].set_title(\"PCA Cluster Plot\")\n",
    "\n",
    "    ax[1].scatter(tsne[idx, 0], tsne[idx, 1], c=label_subset)\n",
    "    ax[1].set_title(\"TSNE Cluster Plot\")\n",
    "\n",
    "\n",
    "def get_top_keywords(data, clusters, labels, n_terms):\n",
    "    df = pd.DataFrame(data.todense).groupby(clusters).mean()\n",
    "\n",
    "    for i, r in df.iterrows():\n",
    "        print(\"\\nCluster {}\".format(i))\n",
    "        print(\",\".join([labels[t] for t in np.argsort(r)[-n_terms:]]))"
   ]
  },
  {
   "cell_type": "code",
   "execution_count": 56,
   "metadata": {},
   "outputs": [],
   "source": [
    "tfidf.fit(tweets_df.clean_text)\n",
    "text = tfidf.transform(tweets_df.clean_text)"
   ]
  },
  {
   "cell_type": "code",
   "execution_count": 57,
   "metadata": {},
   "outputs": [],
   "source": [
    "clusters = MiniBatchKMeans(\n",
    "    n_clusters=5, init_size=1024, batch_size=2048, random_state=20\n",
    ").fit_predict(text)"
   ]
  },
  {
   "cell_type": "code",
   "execution_count": 58,
   "metadata": {},
   "outputs": [
    {
     "data": {
      "image/png": "[encoded data removed]",
      "text/plain": [
       "<Figure size 1008x432 with 2 Axes>"
      ]
     },
     "metadata": {
      "needs_background": "light"
     },
     "output_type": "display_data"
    }
   ],
   "source": [
    "plot_tsne_pca(text, clusters)"
   ]
  },
  {
   "cell_type": "code",
   "execution_count": 69,
   "metadata": {},
   "outputs": [],
   "source": [
    "import tensorflow as tf\n",
    "import tensorflow_hub as hub"
   ]
  },
  {
   "cell_type": "code",
   "execution_count": 74,
   "metadata": {},
   "outputs": [
    {
     "data": {
      "text/plain": [
       "'94e2fa0c620704531d1d9b64c5e43e6c3c77e1d6'"
      ]
     },
     "execution_count": 74,
     "metadata": {},
     "output_type": "execute_result"
    }
   ],
   "source": [
    "# import tensorflow_hub as hub\n",
    "# import os\n",
    "\n",
    "# os.environ[\"TFHUB_CACHE_DIR\"] = \"/scratch/user/diya.li/tmp/tfhub\"\n",
    "# hub.load(\"https://tfhub.dev/google/universal-sentence-encoder/4\")"
   ]
  },
  {
   "cell_type": "code",
   "execution_count": 112,
   "metadata": {},
   "outputs": [],
   "source": [
    "export_dir = \"../tmp/tfhub/063d866c06683311b44b4992fd46003be952409c\""
   ]
  },
  {
   "cell_type": "code",
   "execution_count": 113,
   "metadata": {},
   "outputs": [],
   "source": [
    "data = df_temp[\"text\"].tolist()\n",
    "chunks = [data[x : x + 10000] for x in range(0, len(data), 10000)]\n",
    "len(chunks)\n",
    "df2 = df_temp.head(10000)"
   ]
  },
  {
   "cell_type": "code",
   "execution_count": 118,
   "metadata": {},
   "outputs": [
    {
     "name": "stdout",
     "output_type": "stream",
     "text": [
      "INFO:tensorflow:Restoring parameters from ../tmp/tfhub/539544f0a997d91c327c23285ea00c37588d92cc/variables/variables\n"
     ]
    },
    {
     "name": "stderr",
     "output_type": "stream",
     "text": [
      "INFO:tensorflow:Restoring parameters from ../tmp/tfhub/539544f0a997d91c327c23285ea00c37588d92cc/variables/variables\n"
     ]
    },
    {
     "ename": "NotFoundError",
     "evalue": "Restoring from checkpoint failed. This is most likely due to a Variable name or other graph key that is missing from the checkpoint. Please ensure that you have not altered the graph expected based on the checkpoint. Original error:\n\nKey Embeddings/sharded_0 not found in checkpoint\n\t [[node save/RestoreV2 (defined at <ipython-input-118-76bdb5c8eb5a>:5) ]]\n\nOriginal stack trace for 'save/RestoreV2':\n  File \"/scratch/user/diya.li/.conda/envs/jupyterlab_2.0.1/lib/python3.8/runpy.py\", line 193, in _run_module_as_main\n    return _run_code(code, main_globals, None,\n  File \"/scratch/user/diya.li/.conda/envs/jupyterlab_2.0.1/lib/python3.8/runpy.py\", line 86, in _run_code\n    exec(code, run_globals)\n  File \"/scratch/user/diya.li/.conda/envs/jupyterlab_2.0.1/lib/python3.8/site-packages/ipykernel_launcher.py\", line 16, in <module>\n    app.launch_new_instance()\n  File \"/scratch/user/diya.li/.conda/envs/jupyterlab_2.0.1/lib/python3.8/site-packages/traitlets/config/application.py\", line 664, in launch_instance\n    app.start()\n  File \"/scratch/user/diya.li/.conda/envs/jupyterlab_2.0.1/lib/python3.8/site-packages/ipykernel/kernelapp.py\", line 583, in start\n    self.io_loop.start()\n  File \"/scratch/user/diya.li/.conda/envs/jupyterlab_2.0.1/lib/python3.8/site-packages/tornado/platform/asyncio.py\", line 149, in start\n    self.asyncio_loop.run_forever()\n  File \"/scratch/user/diya.li/.conda/envs/jupyterlab_2.0.1/lib/python3.8/asyncio/base_events.py\", line 570, in run_forever\n    self._run_once()\n  File \"/scratch/user/diya.li/.conda/envs/jupyterlab_2.0.1/lib/python3.8/asyncio/base_events.py\", line 1859, in _run_once\n    handle._run()\n  File \"/scratch/user/diya.li/.conda/envs/jupyterlab_2.0.1/lib/python3.8/asyncio/events.py\", line 81, in _run\n    self._context.run(self._callback, *self._args)\n  File \"/scratch/user/diya.li/.conda/envs/jupyterlab_2.0.1/lib/python3.8/site-packages/tornado/ioloop.py\", line 690, in <lambda>\n    lambda f: self._run_callback(functools.partial(callback, future))\n  File \"/scratch/user/diya.li/.conda/envs/jupyterlab_2.0.1/lib/python3.8/site-packages/tornado/ioloop.py\", line 743, in _run_callback\n    ret = callback()\n  File \"/scratch/user/diya.li/.conda/envs/jupyterlab_2.0.1/lib/python3.8/site-packages/tornado/gen.py\", line 787, in inner\n    self.run()\n  File \"/scratch/user/diya.li/.conda/envs/jupyterlab_2.0.1/lib/python3.8/site-packages/tornado/gen.py\", line 748, in run\n    yielded = self.gen.send(value)\n  File \"/scratch/user/diya.li/.conda/envs/jupyterlab_2.0.1/lib/python3.8/site-packages/ipykernel/kernelbase.py\", line 365, in process_one\n    yield gen.maybe_future(dispatch(*args))\n  File \"/scratch/user/diya.li/.conda/envs/jupyterlab_2.0.1/lib/python3.8/site-packages/tornado/gen.py\", line 209, in wrapper\n    yielded = next(result)\n  File \"/scratch/user/diya.li/.conda/envs/jupyterlab_2.0.1/lib/python3.8/site-packages/ipykernel/kernelbase.py\", line 268, in dispatch_shell\n    yield gen.maybe_future(handler(stream, idents, msg))\n  File \"/scratch/user/diya.li/.conda/envs/jupyterlab_2.0.1/lib/python3.8/site-packages/tornado/gen.py\", line 209, in wrapper\n    yielded = next(result)\n  File \"/scratch/user/diya.li/.conda/envs/jupyterlab_2.0.1/lib/python3.8/site-packages/ipykernel/kernelbase.py\", line 543, in execute_request\n    self.do_execute(\n  File \"/scratch/user/diya.li/.conda/envs/jupyterlab_2.0.1/lib/python3.8/site-packages/tornado/gen.py\", line 209, in wrapper\n    yielded = next(result)\n  File \"/scratch/user/diya.li/.conda/envs/jupyterlab_2.0.1/lib/python3.8/site-packages/ipykernel/ipkernel.py\", line 300, in do_execute\n    res = shell.run_cell(code, store_history=store_history, silent=silent)\n  File \"/scratch/user/diya.li/.conda/envs/jupyterlab_2.0.1/lib/python3.8/site-packages/ipykernel/zmqshell.py\", line 536, in run_cell\n    return super(ZMQInteractiveShell, self).run_cell(*args, **kwargs)\n  File \"/scratch/user/diya.li/.conda/envs/jupyterlab_2.0.1/lib/python3.8/site-packages/IPython/core/interactiveshell.py\", line 2857, in run_cell\n    result = self._run_cell(\n  File \"/scratch/user/diya.li/.conda/envs/jupyterlab_2.0.1/lib/python3.8/site-packages/IPython/core/interactiveshell.py\", line 2886, in _run_cell\n    return runner(coro)\n  File \"/scratch/user/diya.li/.conda/envs/jupyterlab_2.0.1/lib/python3.8/site-packages/IPython/core/async_helpers.py\", line 68, in _pseudo_sync_runner\n    coro.send(None)\n  File \"/scratch/user/diya.li/.conda/envs/jupyterlab_2.0.1/lib/python3.8/site-packages/IPython/core/interactiveshell.py\", line 3062, in run_cell_async\n    has_raised = await self.run_ast_nodes(code_ast.body, cell_name,\n  File \"/scratch/user/diya.li/.conda/envs/jupyterlab_2.0.1/lib/python3.8/site-packages/IPython/core/interactiveshell.py\", line 3254, in run_ast_nodes\n    if (await self.run_code(code, result,  async_=asy)):\n  File \"/scratch/user/diya.li/.conda/envs/jupyterlab_2.0.1/lib/python3.8/site-packages/IPython/core/interactiveshell.py\", line 3331, in run_code\n    exec(code_obj, self.user_global_ns, self.user_ns)\n  File \"<ipython-input-118-76bdb5c8eb5a>\", line 5, in <module>\n    tf.saved_model.load(sess = session, export_dir = export_dir,tags = [])\n  File \"/scratch/user/diya.li/.conda/envs/jupyterlab_2.0.1/lib/python3.8/site-packages/tensorflow/python/util/deprecation.py\", line 324, in new_func\n    return func(*args, **kwargs)\n  File \"/scratch/user/diya.li/.conda/envs/jupyterlab_2.0.1/lib/python3.8/site-packages/tensorflow/python/saved_model/loader_impl.py\", line 299, in load\n    return loader.load(sess, tags, import_scope, **saver_kwargs)\n  File \"/scratch/user/diya.li/.conda/envs/jupyterlab_2.0.1/lib/python3.8/site-packages/tensorflow/python/saved_model/loader_impl.py\", line 451, in load\n    saver, _ = self.load_graph(sess.graph, tags, import_scope,\n  File \"/scratch/user/diya.li/.conda/envs/jupyterlab_2.0.1/lib/python3.8/site-packages/tensorflow/python/saved_model/loader_impl.py\", line 381, in load_graph\n    return tf_saver._import_meta_graph_with_return_elements(  # pylint: disable=protected-access\n  File \"/scratch/user/diya.li/.conda/envs/jupyterlab_2.0.1/lib/python3.8/site-packages/tensorflow/python/training/saver.py\", line 1488, in _import_meta_graph_with_return_elements\n    saver = _create_saver_from_imported_meta_graph(meta_graph_def, import_scope,\n  File \"/scratch/user/diya.li/.conda/envs/jupyterlab_2.0.1/lib/python3.8/site-packages/tensorflow/python/training/saver.py\", line 1509, in _create_saver_from_imported_meta_graph\n    return Saver()\n  File \"/scratch/user/diya.li/.conda/envs/jupyterlab_2.0.1/lib/python3.8/site-packages/tensorflow/python/training/saver.py\", line 836, in __init__\n    self.build()\n  File \"/scratch/user/diya.li/.conda/envs/jupyterlab_2.0.1/lib/python3.8/site-packages/tensorflow/python/training/saver.py\", line 848, in build\n    self._build(self._filename, build_save=True, build_restore=True)\n  File \"/scratch/user/diya.li/.conda/envs/jupyterlab_2.0.1/lib/python3.8/site-packages/tensorflow/python/training/saver.py\", line 876, in _build\n    self.saver_def = self._builder._build_internal(  # pylint: disable=protected-access\n  File \"/scratch/user/diya.li/.conda/envs/jupyterlab_2.0.1/lib/python3.8/site-packages/tensorflow/python/training/saver.py\", line 515, in _build_internal\n    restore_op = self._AddRestoreOps(filename_tensor, saveables,\n  File \"/scratch/user/diya.li/.conda/envs/jupyterlab_2.0.1/lib/python3.8/site-packages/tensorflow/python/training/saver.py\", line 335, in _AddRestoreOps\n    all_tensors = self.bulk_restore(filename_tensor, saveables, preferred_shard,\n  File \"/scratch/user/diya.li/.conda/envs/jupyterlab_2.0.1/lib/python3.8/site-packages/tensorflow/python/training/saver.py\", line 583, in bulk_restore\n    return io_ops.restore_v2(filename_tensor, names, slices, dtypes)\n  File \"/scratch/user/diya.li/.conda/envs/jupyterlab_2.0.1/lib/python3.8/site-packages/tensorflow/python/ops/gen_io_ops.py\", line 1503, in restore_v2\n    _, _, _op, _outputs = _op_def_library._apply_op_helper(\n  File \"/scratch/user/diya.li/.conda/envs/jupyterlab_2.0.1/lib/python3.8/site-packages/tensorflow/python/framework/op_def_library.py\", line 742, in _apply_op_helper\n    op = g._create_op_internal(op_type_name, inputs, dtypes=None,\n  File \"/scratch/user/diya.li/.conda/envs/jupyterlab_2.0.1/lib/python3.8/site-packages/tensorflow/python/framework/ops.py\", line 3319, in _create_op_internal\n    ret = Operation(\n  File \"/scratch/user/diya.li/.conda/envs/jupyterlab_2.0.1/lib/python3.8/site-packages/tensorflow/python/framework/ops.py\", line 1791, in __init__\n    self._traceback = tf_stack.extract_stack()\n",
     "output_type": "error",
     "traceback": [
      "\u001b[0;31m---------------------------------------------------------------------------\u001b[0m",
      "\u001b[0;31mNotFoundError\u001b[0m                             Traceback (most recent call last)",
      "\u001b[0;32m/scratch/user/diya.li/.conda/envs/jupyterlab_2.0.1/lib/python3.8/site-packages/tensorflow/python/client/session.py\u001b[0m in \u001b[0;36m_do_call\u001b[0;34m(self, fn, *args)\u001b[0m\n\u001b[1;32m   1364\u001b[0m     \u001b[0;32mtry\u001b[0m\u001b[0;34m:\u001b[0m\u001b[0;34m\u001b[0m\u001b[0;34m\u001b[0m\u001b[0m\n\u001b[0;32m-> 1365\u001b[0;31m       \u001b[0;32mreturn\u001b[0m \u001b[0mfn\u001b[0m\u001b[0;34m(\u001b[0m\u001b[0;34m*\u001b[0m\u001b[0margs\u001b[0m\u001b[0;34m)\u001b[0m\u001b[0;34m\u001b[0m\u001b[0;34m\u001b[0m\u001b[0m\n\u001b[0m\u001b[1;32m   1366\u001b[0m     \u001b[0;32mexcept\u001b[0m \u001b[0merrors\u001b[0m\u001b[0;34m.\u001b[0m\u001b[0mOpError\u001b[0m \u001b[0;32mas\u001b[0m \u001b[0me\u001b[0m\u001b[0;34m:\u001b[0m\u001b[0;34m\u001b[0m\u001b[0;34m\u001b[0m\u001b[0m\n",
      "\u001b[0;32m/scratch/user/diya.li/.conda/envs/jupyterlab_2.0.1/lib/python3.8/site-packages/tensorflow/python/client/session.py\u001b[0m in \u001b[0;36m_run_fn\u001b[0;34m(feed_dict, fetch_list, target_list, options, run_metadata)\u001b[0m\n\u001b[1;32m   1348\u001b[0m       \u001b[0mself\u001b[0m\u001b[0;34m.\u001b[0m\u001b[0m_extend_graph\u001b[0m\u001b[0;34m(\u001b[0m\u001b[0;34m)\u001b[0m\u001b[0;34m\u001b[0m\u001b[0;34m\u001b[0m\u001b[0m\n\u001b[0;32m-> 1349\u001b[0;31m       return self._call_tf_sessionrun(options, feed_dict, fetch_list,\n\u001b[0m\u001b[1;32m   1350\u001b[0m                                       target_list, run_metadata)\n",
      "\u001b[0;32m/scratch/user/diya.li/.conda/envs/jupyterlab_2.0.1/lib/python3.8/site-packages/tensorflow/python/client/session.py\u001b[0m in \u001b[0;36m_call_tf_sessionrun\u001b[0;34m(self, options, feed_dict, fetch_list, target_list, run_metadata)\u001b[0m\n\u001b[1;32m   1440\u001b[0m                           run_metadata):\n\u001b[0;32m-> 1441\u001b[0;31m     return tf_session.TF_SessionRun_wrapper(self._session, options, feed_dict,\n\u001b[0m\u001b[1;32m   1442\u001b[0m                                             \u001b[0mfetch_list\u001b[0m\u001b[0;34m,\u001b[0m \u001b[0mtarget_list\u001b[0m\u001b[0;34m,\u001b[0m\u001b[0;34m\u001b[0m\u001b[0;34m\u001b[0m\u001b[0m\n",
      "\u001b[0;31mNotFoundError\u001b[0m: Key Embeddings/sharded_0 not found in checkpoint\n\t [[{{node save/RestoreV2}}]]",
      "\nDuring handling of the above exception, another exception occurred:\n",
      "\u001b[0;31mNotFoundError\u001b[0m                             Traceback (most recent call last)",
      "\u001b[0;32m/scratch/user/diya.li/.conda/envs/jupyterlab_2.0.1/lib/python3.8/site-packages/tensorflow/python/training/saver.py\u001b[0m in \u001b[0;36mrestore\u001b[0;34m(self, sess, save_path)\u001b[0m\n\u001b[1;32m   1297\u001b[0m       \u001b[0;32melse\u001b[0m\u001b[0;34m:\u001b[0m\u001b[0;34m\u001b[0m\u001b[0;34m\u001b[0m\u001b[0m\n\u001b[0;32m-> 1298\u001b[0;31m         sess.run(self.saver_def.restore_op_name,\n\u001b[0m\u001b[1;32m   1299\u001b[0m                  {self.saver_def.filename_tensor_name: save_path})\n",
      "\u001b[0;32m/scratch/user/diya.li/.conda/envs/jupyterlab_2.0.1/lib/python3.8/site-packages/tensorflow/python/client/session.py\u001b[0m in \u001b[0;36mrun\u001b[0;34m(self, fetches, feed_dict, options, run_metadata)\u001b[0m\n\u001b[1;32m    956\u001b[0m     \u001b[0;32mtry\u001b[0m\u001b[0;34m:\u001b[0m\u001b[0;34m\u001b[0m\u001b[0;34m\u001b[0m\u001b[0m\n\u001b[0;32m--> 957\u001b[0;31m       result = self._run(None, fetches, feed_dict, options_ptr,\n\u001b[0m\u001b[1;32m    958\u001b[0m                          run_metadata_ptr)\n",
      "\u001b[0;32m/scratch/user/diya.li/.conda/envs/jupyterlab_2.0.1/lib/python3.8/site-packages/tensorflow/python/client/session.py\u001b[0m in \u001b[0;36m_run\u001b[0;34m(self, handle, fetches, feed_dict, options, run_metadata)\u001b[0m\n\u001b[1;32m   1179\u001b[0m     \u001b[0;32mif\u001b[0m \u001b[0mfinal_fetches\u001b[0m \u001b[0;32mor\u001b[0m \u001b[0mfinal_targets\u001b[0m \u001b[0;32mor\u001b[0m \u001b[0;34m(\u001b[0m\u001b[0mhandle\u001b[0m \u001b[0;32mand\u001b[0m \u001b[0mfeed_dict_tensor\u001b[0m\u001b[0;34m)\u001b[0m\u001b[0;34m:\u001b[0m\u001b[0;34m\u001b[0m\u001b[0;34m\u001b[0m\u001b[0m\n\u001b[0;32m-> 1180\u001b[0;31m       results = self._do_run(handle, final_targets, final_fetches,\n\u001b[0m\u001b[1;32m   1181\u001b[0m                              feed_dict_tensor, options, run_metadata)\n",
      "\u001b[0;32m/scratch/user/diya.li/.conda/envs/jupyterlab_2.0.1/lib/python3.8/site-packages/tensorflow/python/client/session.py\u001b[0m in \u001b[0;36m_do_run\u001b[0;34m(self, handle, target_list, fetch_list, feed_dict, options, run_metadata)\u001b[0m\n\u001b[1;32m   1357\u001b[0m     \u001b[0;32mif\u001b[0m \u001b[0mhandle\u001b[0m \u001b[0;32mis\u001b[0m \u001b[0;32mNone\u001b[0m\u001b[0;34m:\u001b[0m\u001b[0;34m\u001b[0m\u001b[0;34m\u001b[0m\u001b[0m\n\u001b[0;32m-> 1358\u001b[0;31m       return self._do_call(_run_fn, feeds, fetches, targets, options,\n\u001b[0m\u001b[1;32m   1359\u001b[0m                            run_metadata)\n",
      "\u001b[0;32m/scratch/user/diya.li/.conda/envs/jupyterlab_2.0.1/lib/python3.8/site-packages/tensorflow/python/client/session.py\u001b[0m in \u001b[0;36m_do_call\u001b[0;34m(self, fn, *args)\u001b[0m\n\u001b[1;32m   1383\u001b[0m                     'disable_meta_optimizer = True')\n\u001b[0;32m-> 1384\u001b[0;31m       \u001b[0;32mraise\u001b[0m \u001b[0mtype\u001b[0m\u001b[0;34m(\u001b[0m\u001b[0me\u001b[0m\u001b[0;34m)\u001b[0m\u001b[0;34m(\u001b[0m\u001b[0mnode_def\u001b[0m\u001b[0;34m,\u001b[0m \u001b[0mop\u001b[0m\u001b[0;34m,\u001b[0m \u001b[0mmessage\u001b[0m\u001b[0;34m)\u001b[0m\u001b[0;34m\u001b[0m\u001b[0;34m\u001b[0m\u001b[0m\n\u001b[0m\u001b[1;32m   1385\u001b[0m \u001b[0;34m\u001b[0m\u001b[0m\n",
      "\u001b[0;31mNotFoundError\u001b[0m: Key Embeddings/sharded_0 not found in checkpoint\n\t [[node save/RestoreV2 (defined at <ipython-input-118-76bdb5c8eb5a>:5) ]]\n\nOriginal stack trace for 'save/RestoreV2':\n  File \"/scratch/user/diya.li/.conda/envs/jupyterlab_2.0.1/lib/python3.8/runpy.py\", line 193, in _run_module_as_main\n    return _run_code(code, main_globals, None,\n  File \"/scratch/user/diya.li/.conda/envs/jupyterlab_2.0.1/lib/python3.8/runpy.py\", line 86, in _run_code\n    exec(code, run_globals)\n  File \"/scratch/user/diya.li/.conda/envs/jupyterlab_2.0.1/lib/python3.8/site-packages/ipykernel_launcher.py\", line 16, in <module>\n    app.launch_new_instance()\n  File \"/scratch/user/diya.li/.conda/envs/jupyterlab_2.0.1/lib/python3.8/site-packages/traitlets/config/application.py\", line 664, in launch_instance\n    app.start()\n  File \"/scratch/user/diya.li/.conda/envs/jupyterlab_2.0.1/lib/python3.8/site-packages/ipykernel/kernelapp.py\", line 583, in start\n    self.io_loop.start()\n  File \"/scratch/user/diya.li/.conda/envs/jupyterlab_2.0.1/lib/python3.8/site-packages/tornado/platform/asyncio.py\", line 149, in start\n    self.asyncio_loop.run_forever()\n  File \"/scratch/user/diya.li/.conda/envs/jupyterlab_2.0.1/lib/python3.8/asyncio/base_events.py\", line 570, in run_forever\n    self._run_once()\n  File \"/scratch/user/diya.li/.conda/envs/jupyterlab_2.0.1/lib/python3.8/asyncio/base_events.py\", line 1859, in _run_once\n    handle._run()\n  File \"/scratch/user/diya.li/.conda/envs/jupyterlab_2.0.1/lib/python3.8/asyncio/events.py\", line 81, in _run\n    self._context.run(self._callback, *self._args)\n  File \"/scratch/user/diya.li/.conda/envs/jupyterlab_2.0.1/lib/python3.8/site-packages/tornado/ioloop.py\", line 690, in <lambda>\n    lambda f: self._run_callback(functools.partial(callback, future))\n  File \"/scratch/user/diya.li/.conda/envs/jupyterlab_2.0.1/lib/python3.8/site-packages/tornado/ioloop.py\", line 743, in _run_callback\n    ret = callback()\n  File \"/scratch/user/diya.li/.conda/envs/jupyterlab_2.0.1/lib/python3.8/site-packages/tornado/gen.py\", line 787, in inner\n    self.run()\n  File \"/scratch/user/diya.li/.conda/envs/jupyterlab_2.0.1/lib/python3.8/site-packages/tornado/gen.py\", line 748, in run\n    yielded = self.gen.send(value)\n  File \"/scratch/user/diya.li/.conda/envs/jupyterlab_2.0.1/lib/python3.8/site-packages/ipykernel/kernelbase.py\", line 365, in process_one\n    yield gen.maybe_future(dispatch(*args))\n  File \"/scratch/user/diya.li/.conda/envs/jupyterlab_2.0.1/lib/python3.8/site-packages/tornado/gen.py\", line 209, in wrapper\n    yielded = next(result)\n  File \"/scratch/user/diya.li/.conda/envs/jupyterlab_2.0.1/lib/python3.8/site-packages/ipykernel/kernelbase.py\", line 268, in dispatch_shell\n    yield gen.maybe_future(handler(stream, idents, msg))\n  File \"/scratch/user/diya.li/.conda/envs/jupyterlab_2.0.1/lib/python3.8/site-packages/tornado/gen.py\", line 209, in wrapper\n    yielded = next(result)\n  File \"/scratch/user/diya.li/.conda/envs/jupyterlab_2.0.1/lib/python3.8/site-packages/ipykernel/kernelbase.py\", line 543, in execute_request\n    self.do_execute(\n  File \"/scratch/user/diya.li/.conda/envs/jupyterlab_2.0.1/lib/python3.8/site-packages/tornado/gen.py\", line 209, in wrapper\n    yielded = next(result)\n  File \"/scratch/user/diya.li/.conda/envs/jupyterlab_2.0.1/lib/python3.8/site-packages/ipykernel/ipkernel.py\", line 300, in do_execute\n    res = shell.run_cell(code, store_history=store_history, silent=silent)\n  File \"/scratch/user/diya.li/.conda/envs/jupyterlab_2.0.1/lib/python3.8/site-packages/ipykernel/zmqshell.py\", line 536, in run_cell\n    return super(ZMQInteractiveShell, self).run_cell(*args, **kwargs)\n  File \"/scratch/user/diya.li/.conda/envs/jupyterlab_2.0.1/lib/python3.8/site-packages/IPython/core/interactiveshell.py\", line 2857, in run_cell\n    result = self._run_cell(\n  File \"/scratch/user/diya.li/.conda/envs/jupyterlab_2.0.1/lib/python3.8/site-packages/IPython/core/interactiveshell.py\", line 2886, in _run_cell\n    return runner(coro)\n  File \"/scratch/user/diya.li/.conda/envs/jupyterlab_2.0.1/lib/python3.8/site-packages/IPython/core/async_helpers.py\", line 68, in _pseudo_sync_runner\n    coro.send(None)\n  File \"/scratch/user/diya.li/.conda/envs/jupyterlab_2.0.1/lib/python3.8/site-packages/IPython/core/interactiveshell.py\", line 3062, in run_cell_async\n    has_raised = await self.run_ast_nodes(code_ast.body, cell_name,\n  File \"/scratch/user/diya.li/.conda/envs/jupyterlab_2.0.1/lib/python3.8/site-packages/IPython/core/interactiveshell.py\", line 3254, in run_ast_nodes\n    if (await self.run_code(code, result,  async_=asy)):\n  File \"/scratch/user/diya.li/.conda/envs/jupyterlab_2.0.1/lib/python3.8/site-packages/IPython/core/interactiveshell.py\", line 3331, in run_code\n    exec(code_obj, self.user_global_ns, self.user_ns)\n  File \"<ipython-input-118-76bdb5c8eb5a>\", line 5, in <module>\n    tf.saved_model.load(sess = session, export_dir = export_dir,tags = [])\n  File \"/scratch/user/diya.li/.conda/envs/jupyterlab_2.0.1/lib/python3.8/site-packages/tensorflow/python/util/deprecation.py\", line 324, in new_func\n    return func(*args, **kwargs)\n  File \"/scratch/user/diya.li/.conda/envs/jupyterlab_2.0.1/lib/python3.8/site-packages/tensorflow/python/saved_model/loader_impl.py\", line 299, in load\n    return loader.load(sess, tags, import_scope, **saver_kwargs)\n  File \"/scratch/user/diya.li/.conda/envs/jupyterlab_2.0.1/lib/python3.8/site-packages/tensorflow/python/saved_model/loader_impl.py\", line 451, in load\n    saver, _ = self.load_graph(sess.graph, tags, import_scope,\n  File \"/scratch/user/diya.li/.conda/envs/jupyterlab_2.0.1/lib/python3.8/site-packages/tensorflow/python/saved_model/loader_impl.py\", line 381, in load_graph\n    return tf_saver._import_meta_graph_with_return_elements(  # pylint: disable=protected-access\n  File \"/scratch/user/diya.li/.conda/envs/jupyterlab_2.0.1/lib/python3.8/site-packages/tensorflow/python/training/saver.py\", line 1488, in _import_meta_graph_with_return_elements\n    saver = _create_saver_from_imported_meta_graph(meta_graph_def, import_scope,\n  File \"/scratch/user/diya.li/.conda/envs/jupyterlab_2.0.1/lib/python3.8/site-packages/tensorflow/python/training/saver.py\", line 1509, in _create_saver_from_imported_meta_graph\n    return Saver()\n  File \"/scratch/user/diya.li/.conda/envs/jupyterlab_2.0.1/lib/python3.8/site-packages/tensorflow/python/training/saver.py\", line 836, in __init__\n    self.build()\n  File \"/scratch/user/diya.li/.conda/envs/jupyterlab_2.0.1/lib/python3.8/site-packages/tensorflow/python/training/saver.py\", line 848, in build\n    self._build(self._filename, build_save=True, build_restore=True)\n  File \"/scratch/user/diya.li/.conda/envs/jupyterlab_2.0.1/lib/python3.8/site-packages/tensorflow/python/training/saver.py\", line 876, in _build\n    self.saver_def = self._builder._build_internal(  # pylint: disable=protected-access\n  File \"/scratch/user/diya.li/.conda/envs/jupyterlab_2.0.1/lib/python3.8/site-packages/tensorflow/python/training/saver.py\", line 515, in _build_internal\n    restore_op = self._AddRestoreOps(filename_tensor, saveables,\n  File \"/scratch/user/diya.li/.conda/envs/jupyterlab_2.0.1/lib/python3.8/site-packages/tensorflow/python/training/saver.py\", line 335, in _AddRestoreOps\n    all_tensors = self.bulk_restore(filename_tensor, saveables, preferred_shard,\n  File \"/scratch/user/diya.li/.conda/envs/jupyterlab_2.0.1/lib/python3.8/site-packages/tensorflow/python/training/saver.py\", line 583, in bulk_restore\n    return io_ops.restore_v2(filename_tensor, names, slices, dtypes)\n  File \"/scratch/user/diya.li/.conda/envs/jupyterlab_2.0.1/lib/python3.8/site-packages/tensorflow/python/ops/gen_io_ops.py\", line 1503, in restore_v2\n    _, _, _op, _outputs = _op_def_library._apply_op_helper(\n  File \"/scratch/user/diya.li/.conda/envs/jupyterlab_2.0.1/lib/python3.8/site-packages/tensorflow/python/framework/op_def_library.py\", line 742, in _apply_op_helper\n    op = g._create_op_internal(op_type_name, inputs, dtypes=None,\n  File \"/scratch/user/diya.li/.conda/envs/jupyterlab_2.0.1/lib/python3.8/site-packages/tensorflow/python/framework/ops.py\", line 3319, in _create_op_internal\n    ret = Operation(\n  File \"/scratch/user/diya.li/.conda/envs/jupyterlab_2.0.1/lib/python3.8/site-packages/tensorflow/python/framework/ops.py\", line 1791, in __init__\n    self._traceback = tf_stack.extract_stack()\n",
      "\nDuring handling of the above exception, another exception occurred:\n",
      "\u001b[0;31mRuntimeError\u001b[0m                              Traceback (most recent call last)",
      "\u001b[0;32m/scratch/user/diya.li/.conda/envs/jupyterlab_2.0.1/lib/python3.8/site-packages/tensorflow/python/training/py_checkpoint_reader.py\u001b[0m in \u001b[0;36mget_tensor\u001b[0;34m(self, tensor_str)\u001b[0m\n\u001b[1;32m     68\u001b[0m   \u001b[0;32mtry\u001b[0m\u001b[0;34m:\u001b[0m\u001b[0;34m\u001b[0m\u001b[0;34m\u001b[0m\u001b[0m\n\u001b[0;32m---> 69\u001b[0;31m     return CheckpointReader.CheckpointReader_GetTensor(\n\u001b[0m\u001b[1;32m     70\u001b[0m         self, compat.as_bytes(tensor_str))\n",
      "\u001b[0;31mRuntimeError\u001b[0m: Key _CHECKPOINTABLE_OBJECT_GRAPH not found in checkpoint",
      "\nDuring handling of the above exception, another exception occurred:\n",
      "\u001b[0;31mNotFoundError\u001b[0m                             Traceback (most recent call last)",
      "\u001b[0;32m/scratch/user/diya.li/.conda/envs/jupyterlab_2.0.1/lib/python3.8/site-packages/tensorflow/python/training/saver.py\u001b[0m in \u001b[0;36mrestore\u001b[0;34m(self, sess, save_path)\u001b[0m\n\u001b[1;32m   1308\u001b[0m       \u001b[0;32mtry\u001b[0m\u001b[0;34m:\u001b[0m\u001b[0;34m\u001b[0m\u001b[0;34m\u001b[0m\u001b[0m\n\u001b[0;32m-> 1309\u001b[0;31m         \u001b[0mnames_to_keys\u001b[0m \u001b[0;34m=\u001b[0m \u001b[0mobject_graph_key_mapping\u001b[0m\u001b[0;34m(\u001b[0m\u001b[0msave_path\u001b[0m\u001b[0;34m)\u001b[0m\u001b[0;34m\u001b[0m\u001b[0;34m\u001b[0m\u001b[0m\n\u001b[0m\u001b[1;32m   1310\u001b[0m       \u001b[0;32mexcept\u001b[0m \u001b[0merrors\u001b[0m\u001b[0;34m.\u001b[0m\u001b[0mNotFoundError\u001b[0m\u001b[0;34m:\u001b[0m\u001b[0;34m\u001b[0m\u001b[0;34m\u001b[0m\u001b[0m\n",
      "\u001b[0;32m/scratch/user/diya.li/.conda/envs/jupyterlab_2.0.1/lib/python3.8/site-packages/tensorflow/python/training/saver.py\u001b[0m in \u001b[0;36mobject_graph_key_mapping\u001b[0;34m(checkpoint_path)\u001b[0m\n\u001b[1;32m   1626\u001b[0m   \u001b[0mreader\u001b[0m \u001b[0;34m=\u001b[0m \u001b[0mpy_checkpoint_reader\u001b[0m\u001b[0;34m.\u001b[0m\u001b[0mNewCheckpointReader\u001b[0m\u001b[0;34m(\u001b[0m\u001b[0mcheckpoint_path\u001b[0m\u001b[0;34m)\u001b[0m\u001b[0;34m\u001b[0m\u001b[0;34m\u001b[0m\u001b[0m\n\u001b[0;32m-> 1627\u001b[0;31m   \u001b[0mobject_graph_string\u001b[0m \u001b[0;34m=\u001b[0m \u001b[0mreader\u001b[0m\u001b[0;34m.\u001b[0m\u001b[0mget_tensor\u001b[0m\u001b[0;34m(\u001b[0m\u001b[0mtrackable\u001b[0m\u001b[0;34m.\u001b[0m\u001b[0mOBJECT_GRAPH_PROTO_KEY\u001b[0m\u001b[0;34m)\u001b[0m\u001b[0;34m\u001b[0m\u001b[0;34m\u001b[0m\u001b[0m\n\u001b[0m\u001b[1;32m   1628\u001b[0m   \u001b[0mobject_graph_proto\u001b[0m \u001b[0;34m=\u001b[0m \u001b[0;34m(\u001b[0m\u001b[0mtrackable_object_graph_pb2\u001b[0m\u001b[0;34m.\u001b[0m\u001b[0mTrackableObjectGraph\u001b[0m\u001b[0;34m(\u001b[0m\u001b[0;34m)\u001b[0m\u001b[0;34m)\u001b[0m\u001b[0;34m\u001b[0m\u001b[0;34m\u001b[0m\u001b[0m\n",
      "\u001b[0;32m/scratch/user/diya.li/.conda/envs/jupyterlab_2.0.1/lib/python3.8/site-packages/tensorflow/python/training/py_checkpoint_reader.py\u001b[0m in \u001b[0;36mget_tensor\u001b[0;34m(self, tensor_str)\u001b[0m\n\u001b[1;32m     73\u001b[0m   \u001b[0;32mexcept\u001b[0m \u001b[0mRuntimeError\u001b[0m \u001b[0;32mas\u001b[0m \u001b[0me\u001b[0m\u001b[0;34m:\u001b[0m\u001b[0;34m\u001b[0m\u001b[0;34m\u001b[0m\u001b[0m\n\u001b[0;32m---> 74\u001b[0;31m     \u001b[0merror_translator\u001b[0m\u001b[0;34m(\u001b[0m\u001b[0me\u001b[0m\u001b[0;34m)\u001b[0m\u001b[0;34m\u001b[0m\u001b[0;34m\u001b[0m\u001b[0m\n\u001b[0m\u001b[1;32m     75\u001b[0m \u001b[0;34m\u001b[0m\u001b[0m\n",
      "\u001b[0;32m/scratch/user/diya.li/.conda/envs/jupyterlab_2.0.1/lib/python3.8/site-packages/tensorflow/python/training/py_checkpoint_reader.py\u001b[0m in \u001b[0;36merror_translator\u001b[0;34m(e)\u001b[0m\n\u001b[1;32m     34\u001b[0m       'matching files for') in error_message:\n\u001b[0;32m---> 35\u001b[0;31m     \u001b[0;32mraise\u001b[0m \u001b[0merrors_impl\u001b[0m\u001b[0;34m.\u001b[0m\u001b[0mNotFoundError\u001b[0m\u001b[0;34m(\u001b[0m\u001b[0;32mNone\u001b[0m\u001b[0;34m,\u001b[0m \u001b[0;32mNone\u001b[0m\u001b[0;34m,\u001b[0m \u001b[0merror_message\u001b[0m\u001b[0;34m)\u001b[0m\u001b[0;34m\u001b[0m\u001b[0;34m\u001b[0m\u001b[0m\n\u001b[0m\u001b[1;32m     36\u001b[0m   elif 'Sliced checkpoints are not supported' in error_message or (\n",
      "\u001b[0;31mNotFoundError\u001b[0m: Key _CHECKPOINTABLE_OBJECT_GRAPH not found in checkpoint",
      "\nDuring handling of the above exception, another exception occurred:\n",
      "\u001b[0;31mNotFoundError\u001b[0m                             Traceback (most recent call last)",
      "\u001b[0;32m<ipython-input-118-76bdb5c8eb5a>\u001b[0m in \u001b[0;36m<module>\u001b[0;34m\u001b[0m\n\u001b[1;32m      3\u001b[0m \u001b[0mcfg\u001b[0m\u001b[0;34m.\u001b[0m\u001b[0mgpu_options\u001b[0m\u001b[0;34m.\u001b[0m\u001b[0mallow_growth\u001b[0m \u001b[0;34m=\u001b[0m \u001b[0;32mTrue\u001b[0m\u001b[0;34m\u001b[0m\u001b[0;34m\u001b[0m\u001b[0m\n\u001b[1;32m      4\u001b[0m \u001b[0;32mwith\u001b[0m \u001b[0mtf\u001b[0m\u001b[0;34m.\u001b[0m\u001b[0mSession\u001b[0m\u001b[0;34m(\u001b[0m\u001b[0mconfig\u001b[0m\u001b[0;34m=\u001b[0m\u001b[0mcfg\u001b[0m\u001b[0;34m)\u001b[0m \u001b[0;32mas\u001b[0m \u001b[0msession\u001b[0m\u001b[0;34m:\u001b[0m\u001b[0;34m\u001b[0m\u001b[0;34m\u001b[0m\u001b[0m\n\u001b[0;32m----> 5\u001b[0;31m     \u001b[0mtf\u001b[0m\u001b[0;34m.\u001b[0m\u001b[0msaved_model\u001b[0m\u001b[0;34m.\u001b[0m\u001b[0mload\u001b[0m\u001b[0;34m(\u001b[0m\u001b[0msess\u001b[0m \u001b[0;34m=\u001b[0m \u001b[0msession\u001b[0m\u001b[0;34m,\u001b[0m \u001b[0mexport_dir\u001b[0m \u001b[0;34m=\u001b[0m \u001b[0mexport_dir\u001b[0m\u001b[0;34m,\u001b[0m\u001b[0mtags\u001b[0m \u001b[0;34m=\u001b[0m \u001b[0;34m[\u001b[0m\u001b[0;34m]\u001b[0m\u001b[0;34m)\u001b[0m\u001b[0;34m\u001b[0m\u001b[0;34m\u001b[0m\u001b[0m\n\u001b[0m\u001b[1;32m      6\u001b[0m     \u001b[0msession\u001b[0m\u001b[0;34m.\u001b[0m\u001b[0mrun\u001b[0m\u001b[0;34m(\u001b[0m\u001b[0;34m[\u001b[0m\u001b[0mtf\u001b[0m\u001b[0;34m.\u001b[0m\u001b[0mglobal_variables_initializer\u001b[0m\u001b[0;34m(\u001b[0m\u001b[0;34m)\u001b[0m\u001b[0;34m,\u001b[0m \u001b[0mtf\u001b[0m\u001b[0;34m.\u001b[0m\u001b[0mtables_initializer\u001b[0m\u001b[0;34m(\u001b[0m\u001b[0;34m)\u001b[0m\u001b[0;34m]\u001b[0m\u001b[0;34m)\u001b[0m\u001b[0;34m\u001b[0m\u001b[0;34m\u001b[0m\u001b[0m\n\u001b[1;32m      7\u001b[0m     message_embeddings = session.run(embed([\n",
      "\u001b[0;32m/scratch/user/diya.li/.conda/envs/jupyterlab_2.0.1/lib/python3.8/site-packages/tensorflow/python/util/deprecation.py\u001b[0m in \u001b[0;36mnew_func\u001b[0;34m(*args, **kwargs)\u001b[0m\n\u001b[1;32m    322\u001b[0m               \u001b[0;34m'in a future version'\u001b[0m \u001b[0;32mif\u001b[0m \u001b[0mdate\u001b[0m \u001b[0;32mis\u001b[0m \u001b[0;32mNone\u001b[0m \u001b[0;32melse\u001b[0m \u001b[0;34m(\u001b[0m\u001b[0;34m'after %s'\u001b[0m \u001b[0;34m%\u001b[0m \u001b[0mdate\u001b[0m\u001b[0;34m)\u001b[0m\u001b[0;34m,\u001b[0m\u001b[0;34m\u001b[0m\u001b[0;34m\u001b[0m\u001b[0m\n\u001b[1;32m    323\u001b[0m               instructions)\n\u001b[0;32m--> 324\u001b[0;31m       \u001b[0;32mreturn\u001b[0m \u001b[0mfunc\u001b[0m\u001b[0;34m(\u001b[0m\u001b[0;34m*\u001b[0m\u001b[0margs\u001b[0m\u001b[0;34m,\u001b[0m \u001b[0;34m**\u001b[0m\u001b[0mkwargs\u001b[0m\u001b[0;34m)\u001b[0m\u001b[0;34m\u001b[0m\u001b[0;34m\u001b[0m\u001b[0m\n\u001b[0m\u001b[1;32m    325\u001b[0m     return tf_decorator.make_decorator(\n\u001b[1;32m    326\u001b[0m         \u001b[0mfunc\u001b[0m\u001b[0;34m,\u001b[0m \u001b[0mnew_func\u001b[0m\u001b[0;34m,\u001b[0m \u001b[0;34m'deprecated'\u001b[0m\u001b[0;34m,\u001b[0m\u001b[0;34m\u001b[0m\u001b[0;34m\u001b[0m\u001b[0m\n",
      "\u001b[0;32m/scratch/user/diya.li/.conda/envs/jupyterlab_2.0.1/lib/python3.8/site-packages/tensorflow/python/saved_model/loader_impl.py\u001b[0m in \u001b[0;36mload\u001b[0;34m(sess, tags, export_dir, import_scope, **saver_kwargs)\u001b[0m\n\u001b[1;32m    297\u001b[0m   \"\"\"\n\u001b[1;32m    298\u001b[0m   \u001b[0mloader\u001b[0m \u001b[0;34m=\u001b[0m \u001b[0mSavedModelLoader\u001b[0m\u001b[0;34m(\u001b[0m\u001b[0mexport_dir\u001b[0m\u001b[0;34m)\u001b[0m\u001b[0;34m\u001b[0m\u001b[0;34m\u001b[0m\u001b[0m\n\u001b[0;32m--> 299\u001b[0;31m   \u001b[0;32mreturn\u001b[0m \u001b[0mloader\u001b[0m\u001b[0;34m.\u001b[0m\u001b[0mload\u001b[0m\u001b[0;34m(\u001b[0m\u001b[0msess\u001b[0m\u001b[0;34m,\u001b[0m \u001b[0mtags\u001b[0m\u001b[0;34m,\u001b[0m \u001b[0mimport_scope\u001b[0m\u001b[0;34m,\u001b[0m \u001b[0;34m**\u001b[0m\u001b[0msaver_kwargs\u001b[0m\u001b[0;34m)\u001b[0m\u001b[0;34m\u001b[0m\u001b[0;34m\u001b[0m\u001b[0m\n\u001b[0m\u001b[1;32m    300\u001b[0m \u001b[0;34m\u001b[0m\u001b[0m\n\u001b[1;32m    301\u001b[0m \u001b[0;34m\u001b[0m\u001b[0m\n",
      "\u001b[0;32m/scratch/user/diya.li/.conda/envs/jupyterlab_2.0.1/lib/python3.8/site-packages/tensorflow/python/saved_model/loader_impl.py\u001b[0m in \u001b[0;36mload\u001b[0;34m(self, sess, tags, import_scope, **saver_kwargs)\u001b[0m\n\u001b[1;32m    451\u001b[0m       saver, _ = self.load_graph(sess.graph, tags, import_scope,\n\u001b[1;32m    452\u001b[0m                                  **saver_kwargs)\n\u001b[0;32m--> 453\u001b[0;31m       \u001b[0mself\u001b[0m\u001b[0;34m.\u001b[0m\u001b[0mrestore_variables\u001b[0m\u001b[0;34m(\u001b[0m\u001b[0msess\u001b[0m\u001b[0;34m,\u001b[0m \u001b[0msaver\u001b[0m\u001b[0;34m,\u001b[0m \u001b[0mimport_scope\u001b[0m\u001b[0;34m)\u001b[0m\u001b[0;34m\u001b[0m\u001b[0;34m\u001b[0m\u001b[0m\n\u001b[0m\u001b[1;32m    454\u001b[0m       \u001b[0mself\u001b[0m\u001b[0;34m.\u001b[0m\u001b[0mrun_init_ops\u001b[0m\u001b[0;34m(\u001b[0m\u001b[0msess\u001b[0m\u001b[0;34m,\u001b[0m \u001b[0mtags\u001b[0m\u001b[0;34m,\u001b[0m \u001b[0mimport_scope\u001b[0m\u001b[0;34m)\u001b[0m\u001b[0;34m\u001b[0m\u001b[0;34m\u001b[0m\u001b[0m\n\u001b[1;32m    455\u001b[0m     \u001b[0;32mreturn\u001b[0m \u001b[0mself\u001b[0m\u001b[0;34m.\u001b[0m\u001b[0mget_meta_graph_def_from_tags\u001b[0m\u001b[0;34m(\u001b[0m\u001b[0mtags\u001b[0m\u001b[0;34m)\u001b[0m\u001b[0;34m\u001b[0m\u001b[0;34m\u001b[0m\u001b[0m\n",
      "\u001b[0;32m/scratch/user/diya.li/.conda/envs/jupyterlab_2.0.1/lib/python3.8/site-packages/tensorflow/python/saved_model/loader_impl.py\u001b[0m in \u001b[0;36mrestore_variables\u001b[0;34m(self, sess, saver, import_scope)\u001b[0m\n\u001b[1;32m    405\u001b[0m                         \"checkpoints were restored.\")\n\u001b[1;32m    406\u001b[0m       \u001b[0;32melif\u001b[0m \u001b[0misinstance\u001b[0m\u001b[0;34m(\u001b[0m\u001b[0msaver\u001b[0m\u001b[0;34m,\u001b[0m \u001b[0mtf_saver\u001b[0m\u001b[0;34m.\u001b[0m\u001b[0mSaver\u001b[0m\u001b[0;34m)\u001b[0m\u001b[0;34m:\u001b[0m\u001b[0;34m\u001b[0m\u001b[0;34m\u001b[0m\u001b[0m\n\u001b[0;32m--> 407\u001b[0;31m         \u001b[0msaver\u001b[0m\u001b[0;34m.\u001b[0m\u001b[0mrestore\u001b[0m\u001b[0;34m(\u001b[0m\u001b[0msess\u001b[0m\u001b[0;34m,\u001b[0m \u001b[0mself\u001b[0m\u001b[0;34m.\u001b[0m\u001b[0m_variables_path\u001b[0m\u001b[0;34m)\u001b[0m\u001b[0;34m\u001b[0m\u001b[0;34m\u001b[0m\u001b[0m\n\u001b[0m\u001b[1;32m    408\u001b[0m       \u001b[0;32melse\u001b[0m\u001b[0;34m:\u001b[0m\u001b[0;34m\u001b[0m\u001b[0;34m\u001b[0m\u001b[0m\n\u001b[1;32m    409\u001b[0m         raise ValueError(\n",
      "\u001b[0;32m/scratch/user/diya.li/.conda/envs/jupyterlab_2.0.1/lib/python3.8/site-packages/tensorflow/python/training/saver.py\u001b[0m in \u001b[0;36mrestore\u001b[0;34m(self, sess, save_path)\u001b[0m\n\u001b[1;32m   1312\u001b[0m         \u001b[0;31m# is a graph mismatch. Re-raise the original error with\u001b[0m\u001b[0;34m\u001b[0m\u001b[0;34m\u001b[0m\u001b[0;34m\u001b[0m\u001b[0m\n\u001b[1;32m   1313\u001b[0m         \u001b[0;31m# a helpful message (b/110263146)\u001b[0m\u001b[0;34m\u001b[0m\u001b[0;34m\u001b[0m\u001b[0;34m\u001b[0m\u001b[0m\n\u001b[0;32m-> 1314\u001b[0;31m         raise _wrap_restore_error_with_msg(\n\u001b[0m\u001b[1;32m   1315\u001b[0m             err, \"a Variable name or other graph key that is missing\")\n\u001b[1;32m   1316\u001b[0m \u001b[0;34m\u001b[0m\u001b[0m\n",
      "\u001b[0;31mNotFoundError\u001b[0m: Restoring from checkpoint failed. This is most likely due to a Variable name or other graph key that is missing from the checkpoint. Please ensure that you have not altered the graph expected based on the checkpoint. Original error:\n\nKey Embeddings/sharded_0 not found in checkpoint\n\t [[node save/RestoreV2 (defined at <ipython-input-118-76bdb5c8eb5a>:5) ]]\n\nOriginal stack trace for 'save/RestoreV2':\n  File \"/scratch/user/diya.li/.conda/envs/jupyterlab_2.0.1/lib/python3.8/runpy.py\", line 193, in _run_module_as_main\n    return _run_code(code, main_globals, None,\n  File \"/scratch/user/diya.li/.conda/envs/jupyterlab_2.0.1/lib/python3.8/runpy.py\", line 86, in _run_code\n    exec(code, run_globals)\n  File \"/scratch/user/diya.li/.conda/envs/jupyterlab_2.0.1/lib/python3.8/site-packages/ipykernel_launcher.py\", line 16, in <module>\n    app.launch_new_instance()\n  File \"/scratch/user/diya.li/.conda/envs/jupyterlab_2.0.1/lib/python3.8/site-packages/traitlets/config/application.py\", line 664, in launch_instance\n    app.start()\n  File \"/scratch/user/diya.li/.conda/envs/jupyterlab_2.0.1/lib/python3.8/site-packages/ipykernel/kernelapp.py\", line 583, in start\n    self.io_loop.start()\n  File \"/scratch/user/diya.li/.conda/envs/jupyterlab_2.0.1/lib/python3.8/site-packages/tornado/platform/asyncio.py\", line 149, in start\n    self.asyncio_loop.run_forever()\n  File \"/scratch/user/diya.li/.conda/envs/jupyterlab_2.0.1/lib/python3.8/asyncio/base_events.py\", line 570, in run_forever\n    self._run_once()\n  File \"/scratch/user/diya.li/.conda/envs/jupyterlab_2.0.1/lib/python3.8/asyncio/base_events.py\", line 1859, in _run_once\n    handle._run()\n  File \"/scratch/user/diya.li/.conda/envs/jupyterlab_2.0.1/lib/python3.8/asyncio/events.py\", line 81, in _run\n    self._context.run(self._callback, *self._args)\n  File \"/scratch/user/diya.li/.conda/envs/jupyterlab_2.0.1/lib/python3.8/site-packages/tornado/ioloop.py\", line 690, in <lambda>\n    lambda f: self._run_callback(functools.partial(callback, future))\n  File \"/scratch/user/diya.li/.conda/envs/jupyterlab_2.0.1/lib/python3.8/site-packages/tornado/ioloop.py\", line 743, in _run_callback\n    ret = callback()\n  File \"/scratch/user/diya.li/.conda/envs/jupyterlab_2.0.1/lib/python3.8/site-packages/tornado/gen.py\", line 787, in inner\n    self.run()\n  File \"/scratch/user/diya.li/.conda/envs/jupyterlab_2.0.1/lib/python3.8/site-packages/tornado/gen.py\", line 748, in run\n    yielded = self.gen.send(value)\n  File \"/scratch/user/diya.li/.conda/envs/jupyterlab_2.0.1/lib/python3.8/site-packages/ipykernel/kernelbase.py\", line 365, in process_one\n    yield gen.maybe_future(dispatch(*args))\n  File \"/scratch/user/diya.li/.conda/envs/jupyterlab_2.0.1/lib/python3.8/site-packages/tornado/gen.py\", line 209, in wrapper\n    yielded = next(result)\n  File \"/scratch/user/diya.li/.conda/envs/jupyterlab_2.0.1/lib/python3.8/site-packages/ipykernel/kernelbase.py\", line 268, in dispatch_shell\n    yield gen.maybe_future(handler(stream, idents, msg))\n  File \"/scratch/user/diya.li/.conda/envs/jupyterlab_2.0.1/lib/python3.8/site-packages/tornado/gen.py\", line 209, in wrapper\n    yielded = next(result)\n  File \"/scratch/user/diya.li/.conda/envs/jupyterlab_2.0.1/lib/python3.8/site-packages/ipykernel/kernelbase.py\", line 543, in execute_request\n    self.do_execute(\n  File \"/scratch/user/diya.li/.conda/envs/jupyterlab_2.0.1/lib/python3.8/site-packages/tornado/gen.py\", line 209, in wrapper\n    yielded = next(result)\n  File \"/scratch/user/diya.li/.conda/envs/jupyterlab_2.0.1/lib/python3.8/site-packages/ipykernel/ipkernel.py\", line 300, in do_execute\n    res = shell.run_cell(code, store_history=store_history, silent=silent)\n  File \"/scratch/user/diya.li/.conda/envs/jupyterlab_2.0.1/lib/python3.8/site-packages/ipykernel/zmqshell.py\", line 536, in run_cell\n    return super(ZMQInteractiveShell, self).run_cell(*args, **kwargs)\n  File \"/scratch/user/diya.li/.conda/envs/jupyterlab_2.0.1/lib/python3.8/site-packages/IPython/core/interactiveshell.py\", line 2857, in run_cell\n    result = self._run_cell(\n  File \"/scratch/user/diya.li/.conda/envs/jupyterlab_2.0.1/lib/python3.8/site-packages/IPython/core/interactiveshell.py\", line 2886, in _run_cell\n    return runner(coro)\n  File \"/scratch/user/diya.li/.conda/envs/jupyterlab_2.0.1/lib/python3.8/site-packages/IPython/core/async_helpers.py\", line 68, in _pseudo_sync_runner\n    coro.send(None)\n  File \"/scratch/user/diya.li/.conda/envs/jupyterlab_2.0.1/lib/python3.8/site-packages/IPython/core/interactiveshell.py\", line 3062, in run_cell_async\n    has_raised = await self.run_ast_nodes(code_ast.body, cell_name,\n  File \"/scratch/user/diya.li/.conda/envs/jupyterlab_2.0.1/lib/python3.8/site-packages/IPython/core/interactiveshell.py\", line 3254, in run_ast_nodes\n    if (await self.run_code(code, result,  async_=asy)):\n  File \"/scratch/user/diya.li/.conda/envs/jupyterlab_2.0.1/lib/python3.8/site-packages/IPython/core/interactiveshell.py\", line 3331, in run_code\n    exec(code_obj, self.user_global_ns, self.user_ns)\n  File \"<ipython-input-118-76bdb5c8eb5a>\", line 5, in <module>\n    tf.saved_model.load(sess = session, export_dir = export_dir,tags = [])\n  File \"/scratch/user/diya.li/.conda/envs/jupyterlab_2.0.1/lib/python3.8/site-packages/tensorflow/python/util/deprecation.py\", line 324, in new_func\n    return func(*args, **kwargs)\n  File \"/scratch/user/diya.li/.conda/envs/jupyterlab_2.0.1/lib/python3.8/site-packages/tensorflow/python/saved_model/loader_impl.py\", line 299, in load\n    return loader.load(sess, tags, import_scope, **saver_kwargs)\n  File \"/scratch/user/diya.li/.conda/envs/jupyterlab_2.0.1/lib/python3.8/site-packages/tensorflow/python/saved_model/loader_impl.py\", line 451, in load\n    saver, _ = self.load_graph(sess.graph, tags, import_scope,\n  File \"/scratch/user/diya.li/.conda/envs/jupyterlab_2.0.1/lib/python3.8/site-packages/tensorflow/python/saved_model/loader_impl.py\", line 381, in load_graph\n    return tf_saver._import_meta_graph_with_return_elements(  # pylint: disable=protected-access\n  File \"/scratch/user/diya.li/.conda/envs/jupyterlab_2.0.1/lib/python3.8/site-packages/tensorflow/python/training/saver.py\", line 1488, in _import_meta_graph_with_return_elements\n    saver = _create_saver_from_imported_meta_graph(meta_graph_def, import_scope,\n  File \"/scratch/user/diya.li/.conda/envs/jupyterlab_2.0.1/lib/python3.8/site-packages/tensorflow/python/training/saver.py\", line 1509, in _create_saver_from_imported_meta_graph\n    return Saver()\n  File \"/scratch/user/diya.li/.conda/envs/jupyterlab_2.0.1/lib/python3.8/site-packages/tensorflow/python/training/saver.py\", line 836, in __init__\n    self.build()\n  File \"/scratch/user/diya.li/.conda/envs/jupyterlab_2.0.1/lib/python3.8/site-packages/tensorflow/python/training/saver.py\", line 848, in build\n    self._build(self._filename, build_save=True, build_restore=True)\n  File \"/scratch/user/diya.li/.conda/envs/jupyterlab_2.0.1/lib/python3.8/site-packages/tensorflow/python/training/saver.py\", line 876, in _build\n    self.saver_def = self._builder._build_internal(  # pylint: disable=protected-access\n  File \"/scratch/user/diya.li/.conda/envs/jupyterlab_2.0.1/lib/python3.8/site-packages/tensorflow/python/training/saver.py\", line 515, in _build_internal\n    restore_op = self._AddRestoreOps(filename_tensor, saveables,\n  File \"/scratch/user/diya.li/.conda/envs/jupyterlab_2.0.1/lib/python3.8/site-packages/tensorflow/python/training/saver.py\", line 335, in _AddRestoreOps\n    all_tensors = self.bulk_restore(filename_tensor, saveables, preferred_shard,\n  File \"/scratch/user/diya.li/.conda/envs/jupyterlab_2.0.1/lib/python3.8/site-packages/tensorflow/python/training/saver.py\", line 583, in bulk_restore\n    return io_ops.restore_v2(filename_tensor, names, slices, dtypes)\n  File \"/scratch/user/diya.li/.conda/envs/jupyterlab_2.0.1/lib/python3.8/site-packages/tensorflow/python/ops/gen_io_ops.py\", line 1503, in restore_v2\n    _, _, _op, _outputs = _op_def_library._apply_op_helper(\n  File \"/scratch/user/diya.li/.conda/envs/jupyterlab_2.0.1/lib/python3.8/site-packages/tensorflow/python/framework/op_def_library.py\", line 742, in _apply_op_helper\n    op = g._create_op_internal(op_type_name, inputs, dtypes=None,\n  File \"/scratch/user/diya.li/.conda/envs/jupyterlab_2.0.1/lib/python3.8/site-packages/tensorflow/python/framework/ops.py\", line 3319, in _create_op_internal\n    ret = Operation(\n  File \"/scratch/user/diya.li/.conda/envs/jupyterlab_2.0.1/lib/python3.8/site-packages/tensorflow/python/framework/ops.py\", line 1791, in __init__\n    self._traceback = tf_stack.extract_stack()\n"
     ]
    }
   ],
   "source": [
    "# Get word embeddings\n",
    "cfg = tf.compat.v1.ConfigProto(allow_soft_placement=True )\n",
    "cfg.gpu_options.allow_growth = True\n",
    "with tf.Session(config=cfg) as session:\n",
    "    embed = tf.saved_model.load(sess = session, export_dir = export_dir,tags = [\"\"])\n",
    "    session.run([tf.global_variables_initializer(), tf.tables_initializer()])\n",
    "    message_embeddings = session.run(embed([\n",
    "    \"The quick brown fox jumps over the lazy dog.\",\n",
    "    \"I am a sentence for which I would like to get its embedding\"]))\n",
    "#     message_embeddings = session.run(embed(list(user_tweets.values())))\n",
    "print(message_embeddings.shape)"
   ]
  },
  {
   "cell_type": "code",
   "execution_count": null,
   "metadata": {},
   "outputs": [],
   "source": []
  },
  {
   "cell_type": "code",
   "execution_count": null,
   "metadata": {},
   "outputs": [],
   "source": []
  }
 ],
 "metadata": {
  "kernelspec": {
   "display_name": "Python 3",
   "language": "python",
   "name": "python3"
  },
  "language_info": {
   "codemirror_mode": {
    "name": "ipython",
    "version": 3
   },
   "file_extension": ".py",
   "mimetype": "text/x-python",
   "name": "python",
   "nbconvert_exporter": "python",
   "pygments_lexer": "ipython3",
   "version": "3.8.2"
  }
 },
 "nbformat": 4,
 "nbformat_minor": 4
}
